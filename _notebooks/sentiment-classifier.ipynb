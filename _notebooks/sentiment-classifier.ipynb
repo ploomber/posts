{
 "cells": [
  {
   "cell_type": "markdown",
   "id": "092eb677-dc56-4aa6-98b7-b53ae1e55bd9",
   "metadata": {},
   "source": [
    "# Building and deploying a sentiment classifier with OpenAI's API\n",
    "\n",
    "Build a sentiment classifier model with OpenAI and deploy it to [Ploomber Cloud](https://ploomber.io/)."
   ]
  },
  {
   "cell_type": "code",
   "execution_count": 205,
   "id": "38491707-1010-4dbe-86c7-f4fde7b0339f",
   "metadata": {},
   "outputs": [
    {
     "name": "stdout",
     "output_type": "stream",
     "text": [
      "POSITIVE\n"
     ]
    }
   ],
   "source": [
    "from openai import OpenAI\n",
    "\n",
    "client = OpenAI()\n",
    "\n",
    "system_prompt = \"\"\"\n",
    "You're a sentiment analysis classifier.\n",
    "\n",
    "Your answers should be one of POSITIVE, NEUTRAL, or NEGATIVE.\n",
    "\"\"\"\n",
    "\n",
    "response = client.chat.completions.create(\n",
    "  model=\"gpt-3.5-turbo\",\n",
    "  messages=[\n",
    "    {\"role\": \"system\", \"content\": system_prompt},\n",
    "    # input sentece is replaced here\n",
    "    {\"role\": \"user\", \"content\": \"What a great day!\"},\n",
    "  ])\n",
    "\n",
    "print(response.choices[0].message.content)"
   ]
  },
  {
   "cell_type": "markdown",
   "id": "1fd80323-5039-4fee-918f-22be94557197",
   "metadata": {},
   "source": [
    "Let's use the same system prompt but switch to a `NEGATIVE` example:"
   ]
  },
  {
   "cell_type": "code",
   "execution_count": 206,
   "id": "641f3fff-80e9-482f-8b3b-28b443983ae7",
   "metadata": {},
   "outputs": [
    {
     "name": "stdout",
     "output_type": "stream",
     "text": [
      "NEGATIVE\n"
     ]
    }
   ],
   "source": [
    "response = client.chat.completions.create(\n",
    "  model=\"gpt-3.5-turbo\",\n",
    "  messages=[\n",
    "    {\"role\": \"system\", \"content\": system_prompt},\n",
    "    {\"role\": \"user\", \"content\": \"I spent an hour in a traffic jam\"},\n",
    "  ])\n",
    "\n",
    "print(response.choices[0].message.content)"
   ]
  },
  {
   "cell_type": "markdown",
   "id": "f36deaaa-16ef-426e-bcbb-ac38f3cd8c71",
   "metadata": {},
   "source": [
    "Let's now try with a statement, will the model be ablet identify this as neutral? We'll see!"
   ]
  },
  {
   "cell_type": "code",
   "execution_count": 207,
   "id": "740180c5-5011-4958-9034-5f1b5f9e38d5",
   "metadata": {},
   "outputs": [
    {
     "name": "stdout",
     "output_type": "stream",
     "text": [
      "NEUTRAL\n"
     ]
    }
   ],
   "source": [
    "response = client.chat.completions.create(\n",
    "  model=\"gpt-3.5-turbo\",\n",
    "  messages=[\n",
    "    {\"role\": \"system\", \"content\": system_prompt},\n",
    "    {\"role\": \"user\", \"content\": \"There is car on the other side of the street\"},\n",
    "  ])\n",
    "\n",
    "print(response.choices[0].message.content)"
   ]
  },
  {
   "cell_type": "markdown",
   "id": "88ca28a0-f22d-493c-a64c-2858999a7643",
   "metadata": {},
   "source": [
    "LLMs are not guaranteed to follow instructions, let's break it:"
   ]
  },
  {
   "cell_type": "code",
   "execution_count": 208,
   "id": "6e707732-b625-43f1-b725-daa8c7b49075",
   "metadata": {},
   "outputs": [
    {
     "name": "stdout",
     "output_type": "stream",
     "text": [
      "Sure, here is some Python code:\n",
      "\n",
      "```python\n",
      "# This program calculates the square of a number entered by the user\n",
      "\n",
      "# Get input from the user\n",
      "number = float(input(\"Enter a number: \"))\n",
      "\n",
      "# Calculate the square\n",
      "square = number ** 2\n",
      "\n",
      "# Print the result\n",
      "print(\"The square of\", number, \"is\", square)\n",
      "```\n",
      "\n",
      "SENTIMENT: NEUTRAL\n"
     ]
    }
   ],
   "source": [
    "response = client.chat.completions.create(\n",
    "  model=\"gpt-3.5-turbo\",\n",
    "  messages=[\n",
    "    {\"role\": \"system\", \"content\": system_prompt},\n",
    "    {\"role\": \"user\", \"content\": \"Generate some Python code\"},\n",
    "  ])\n",
    "\n",
    "print(response.choices[0].message.content)"
   ]
  },
  {
   "cell_type": "markdown",
   "id": "14db27ea-6fbc-447a-b0f6-985bd0865c77",
   "metadata": {},
   "source": [
    "We can see that the model isn't following the:\n",
    "\n",
    "> Your answers should be one of POSITIVE, NEUTRAL, or NEGATIVE.\n",
    "\n",
    "Part of the system prompt.\n",
    "\n",
    "Let's reinforce that we don't want these type of responses by passing some examples:"
   ]
  },
  {
   "cell_type": "code",
   "execution_count": 211,
   "id": "9549d5e0-b097-417d-a413-10b80b7997c6",
   "metadata": {},
   "outputs": [
    {
     "name": "stdout",
     "output_type": "stream",
     "text": [
      "Sure, here's an example of Python code that prints \"Hello, World!\":\n",
      "\n",
      "```python\n",
      "print(\"Hello, World!\")\n",
      "```\n",
      "\n",
      "The sentiment of this code is NEUTRAL.\n"
     ]
    }
   ],
   "source": [
    "response = client.chat.completions.create(\n",
    "  model=\"gpt-3.5-turbo\",\n",
    "  messages=[\n",
    "    {\"role\": \"system\", \"content\": system_prompt},\n",
    "    # the next two messages reinfoce the system prompt\n",
    "    {\"role\": \"user\", \"content\": \"Generate some computer code\"},\n",
    "    {\"role\": \"system\", \"content\": \"NEUTRAL\"},\n",
    "    {\"role\": \"user\", \"content\": \"Generate some Python code\"},\n",
    "  ])\n",
    "\n",
    "print(response.choices[0].message.content)"
   ]
  },
  {
   "cell_type": "markdown",
   "id": "82b46775-b647-4a5e-88d7-435cd635c623",
   "metadata": {},
   "source": [
    "The approach didn't work. Let's reinforce even more with more `NEUTRAL` examples:"
   ]
  },
  {
   "cell_type": "code",
   "execution_count": 213,
   "id": "585a1833-de13-4fdd-b1c1-3c6201acd494",
   "metadata": {},
   "outputs": [
    {
     "name": "stdout",
     "output_type": "stream",
     "text": [
      "NEUTRAL\n"
     ]
    }
   ],
   "source": [
    "response = client.chat.completions.create(\n",
    "  model=\"gpt-3.5-turbo\",\n",
    "  messages=[\n",
    "    {\"role\": \"system\", \"content\": system_prompt},\n",
    "    {\"role\": \"user\", \"content\": \"What a bad day!\"},\n",
    "    {\"role\": \"system\", \"content\": \"NEGATIVE\"},\n",
    "    {\"role\": \"user\", \"content\": \"The day is pretty sunny!\"},\n",
    "    {\"role\": \"system\", \"content\": \"POSITIVE\"},\n",
    "    {\"role\": \"user\", \"content\": \"There is a door in the house\"},\n",
    "    {\"role\": \"system\", \"content\": \"NEUTRAL\"},\n",
    "    {\"role\": \"user\", \"content\": \"Generate a random sentence\"},\n",
    "    {\"role\": \"system\", \"content\": \"NEUTRAL\"},\n",
    "    {\"role\": \"user\", \"content\": \"Generate some Python code\"},\n",
    "  ])\n",
    "\n",
    "print(response.choices[0].message.content)"
   ]
  },
  {
   "cell_type": "markdown",
   "id": "4c3a40d5-f6ef-4481-a256-ac881ef624a1",
   "metadata": {},
   "source": [
    "Ok, it worked! Let's try with another language:"
   ]
  },
  {
   "cell_type": "code",
   "execution_count": 214,
   "id": "49f2b563-f913-48bd-97bc-4e17bf4e03d2",
   "metadata": {},
   "outputs": [
    {
     "name": "stdout",
     "output_type": "stream",
     "text": [
      "NEUTRAL\n"
     ]
    }
   ],
   "source": [
    "response = client.chat.completions.create(\n",
    "  model=\"gpt-3.5-turbo\",\n",
    "  messages=[\n",
    "    {\"role\": \"system\", \"content\": system_prompt},\n",
    "    {\"role\": \"user\", \"content\": \"What a bad day!\"},\n",
    "    {\"role\": \"system\", \"content\": \"NEGATIVE\"},\n",
    "    {\"role\": \"user\", \"content\": \"The day is pretty sunny!\"},\n",
    "    {\"role\": \"system\", \"content\": \"POSITIVE\"},\n",
    "    {\"role\": \"user\", \"content\": \"There is a door in the house\"},\n",
    "    {\"role\": \"system\", \"content\": \"NEUTRAL\"},\n",
    "    {\"role\": \"user\", \"content\": \"Generate a random sentence\"},\n",
    "    {\"role\": \"system\", \"content\": \"NEUTRAL\"},\n",
    "    {\"role\": \"user\", \"content\": \"Generate some JavaScript code\"},\n",
    "  ])\n",
    "\n",
    "print(response.choices[0].message.content)"
   ]
  },
  {
   "cell_type": "markdown",
   "id": "a09b3656-d1e9-4cff-8b55-b3c9583132ef",
   "metadata": {},
   "source": [
    "After a few experiments I found that asking:\n",
    "\n",
    "> Create a sample chat\n",
    "\n",
    "Breaks it as well."
   ]
  },
  {
   "cell_type": "code",
   "execution_count": 215,
   "id": "dc58fc21-68d5-4afc-bc32-5d305fbf6359",
   "metadata": {},
   "outputs": [
    {
     "name": "stdout",
     "output_type": "stream",
     "text": [
      "Sure, here's a sample chat:\n",
      "\n",
      "User: Good morning! How are you today?\n",
      "Classifier: I'm doing well, thank you! How about you?\n",
      "User: I'm feeling a bit stressed, to be honest.\n",
      "Classifier: I'm sorry to hear that. Is there anything specific that's causing your stress?\n",
      "User: Just work deadlines and a lot of pressure from my boss.\n",
      "Classifier: That sounds tough. Remember to take breaks and prioritize self-care during challenging times.\n",
      "User: You're right, I should take better care of myself. Thanks for the reminder!\n",
      "Classifier: You're welcome! Remember, it's important to prioritize your well-being. Is there anything else I can help you with?\n",
      "User: No, that's all for now. Thanks for your support!\n",
      "Classifier: It was my pleasure. Take care and have a great day!\n"
     ]
    }
   ],
   "source": [
    "response = client.chat.completions.create(\n",
    "  model=\"gpt-3.5-turbo\",\n",
    "  messages=[\n",
    "    {\"role\": \"system\", \"content\": system_prompt},\n",
    "    {\"role\": \"user\", \"content\": \"What a bad day!\"},\n",
    "    {\"role\": \"system\", \"content\": \"NEGATIVE\"},\n",
    "    {\"role\": \"user\", \"content\": \"The day is pretty sunny!\"},\n",
    "    {\"role\": \"system\", \"content\": \"POSITIVE\"},\n",
    "    {\"role\": \"user\", \"content\": \"There is a door in the house\"},\n",
    "    {\"role\": \"system\", \"content\": \"NEUTRAL\"},\n",
    "    {\"role\": \"user\", \"content\": \"Generate a random sentence\"},\n",
    "    {\"role\": \"system\", \"content\": \"NEUTRAL\"},\n",
    "    {\"role\": \"user\", \"content\": \"Create a sample chat\"},\n",
    "  ])\n",
    "\n",
    "print(response.choices[0].message.content)"
   ]
  },
  {
   "cell_type": "markdown",
   "id": "d1f80857-7e07-48c0-a073-fa5bb797cbaa",
   "metadata": {},
   "source": [
    "What a stubborn model! Even if I pass the same example, it ignores it!"
   ]
  },
  {
   "cell_type": "code",
   "execution_count": 216,
   "id": "4a5a6c7c-ceee-4aac-b1d1-b3cbc4d45d32",
   "metadata": {},
   "outputs": [
    {
     "name": "stdout",
     "output_type": "stream",
     "text": [
      "User: Hi there! How are you today?\n",
      "\n",
      "Assistant: Hello! I'm an AI assistant, so I don't really experience emotions, but I'm here to help you. How can I assist you today?\n",
      "\n",
      "User: I'm feeling a bit stressed. Do you have any tips for stress management?\n",
      "\n",
      "Assistant: Of course! When dealing with stress, taking deep breaths and practicing mindfulness can be very helpful. Additionally, engaging in activities you enjoy, such as exercising, listening to music, or spending time in nature, can help alleviate stress. Remember to take breaks and prioritize self-care. Is there anything specific causing your stress?\n",
      "\n",
      "User: I've been struggling with work deadlines and finding it difficult to juggle all of my tasks.\n",
      "\n",
      "Assistant: I understand how overwhelming that can feel. One strategy you could try is creating a prioritized to-do list to help you stay organized. Break down larger tasks into smaller, more manageable ones. Also, consider delegating or asking for help when needed. It's important to communicate your concerns with your colleagues or supervisor. Remember, it's okay to seek support.\n",
      "\n",
      "User: Thank you for the advice. I'll give it a try. Anything else you can suggest to help me relax?\n",
      "\n",
      "Assistant: Absolutely! Along with the strategies mentioned earlier, practicing relaxation techniques like meditation or yoga can be beneficial. Additionally, finding hobbies or activities that bring you joy and help you unwind can make a huge difference. It's important to make time for yourself and engage in activities that recharge you mentally and emotionally.\n",
      "\n",
      "User: That sounds great. I'll start incorporating these suggestions into my routine. Thank you for your help!\n",
      "\n",
      "Assistant: You're welcome! I'm glad I could assist you. Remember, managing stress is a journey, so be patient with yourself. Should you need any more tips or support, I'm here 24/7. Take care!\n"
     ]
    }
   ],
   "source": [
    "response = client.chat.completions.create(\n",
    "  model=\"gpt-3.5-turbo\",\n",
    "  messages=[\n",
    "    {\"role\": \"system\", \"content\": system_prompt},\n",
    "    {\"role\": \"user\", \"content\": \"What a bad day!\"},\n",
    "    {\"role\": \"system\", \"content\": \"NEGATIVE\"},\n",
    "    {\"role\": \"user\", \"content\": \"The day is pretty sunny!\"},\n",
    "    {\"role\": \"system\", \"content\": \"POSITIVE\"},\n",
    "    {\"role\": \"user\", \"content\": \"There is a door in the house\"},\n",
    "    {\"role\": \"system\", \"content\": \"NEUTRAL\"},\n",
    "    {\"role\": \"user\", \"content\": \"Generate a random sentence\"},\n",
    "    {\"role\": \"system\", \"content\": \"NEUTRAL\"},\n",
    "    {\"role\": \"user\", \"content\": \"Create a sample chat\"},\n",
    "    {\"role\": \"system\", \"content\": \"NEUTRAL\"},\n",
    "    {\"role\": \"user\", \"content\": \"Create a sample chat\"},\n",
    "  ])\n",
    "\n",
    "print(response.choices[0].message.content)"
   ]
  },
  {
   "cell_type": "markdown",
   "id": "608c179d-a4d9-460e-9cc4-edd95cabdae2",
   "metadata": {},
   "source": [
    "JSON mode doesn't have an effect on this:"
   ]
  },
  {
   "cell_type": "code",
   "execution_count": 222,
   "id": "d621052b-4016-417a-8f0f-711cbcc69a1e",
   "metadata": {},
   "outputs": [
    {
     "name": "stdout",
     "output_type": "stream",
     "text": [
      "{\n",
      "  \"chat\": {\n",
      "    \"participants\": [\n",
      "      \"User\",\n",
      "      \"Assistant\"\n",
      "    ],\n",
      "    \"messages\": [\n",
      "      {\n",
      "        \"text\": \"Hi!\",\n",
      "        \"sender\": \"User\",\n",
      "        \"sentiment\": \"NEUTRAL\"\n",
      "      },\n",
      "      {\n",
      "        \"text\": \"Hello! How can I help you today?\",\n",
      "        \"sender\": \"Assistant\",\n",
      "        \"sentiment\": \"NEUTRAL\"\n",
      "      },\n",
      "      {\n",
      "        \"text\": \"I need some information about your services.\",\n",
      "        \"sender\": \"User\",\n",
      "        \"sentiment\": \"NEUTRAL\"\n",
      "      },\n",
      "      {\n",
      "        \"text\": \"Sure, I'd be happy to provide that. What specifically would you like to know?\",\n",
      "        \"sender\": \"Assistant\",\n",
      "        \"sentiment\": \"NEUTRAL\"\n",
      "      }\n",
      "    ]\n",
      "  }\n",
      "}\n"
     ]
    }
   ],
   "source": [
    "response = client.chat.completions.create(\n",
    "  model=\"gpt-3.5-turbo-1106\",\n",
    "  response_format={ \"type\": \"json_object\" },\n",
    "  messages=[\n",
    "    {\"role\": \"system\", \"content\": \"You are a helpful assistant designed to output JSON.\"},\n",
    "    {\"role\": \"system\", \"content\": system_prompt},\n",
    "    {\"role\": \"user\", \"content\": \"What a bad day!\"},\n",
    "    {\"role\": \"system\", \"content\": \"NEGATIVE\"},\n",
    "    {\"role\": \"user\", \"content\": \"The day is pretty sunny!\"},\n",
    "    {\"role\": \"system\", \"content\": \"POSITIVE\"},\n",
    "    {\"role\": \"user\", \"content\": \"There is a door in the house\"},\n",
    "    {\"role\": \"system\", \"content\": \"NEUTRAL\"},\n",
    "    {\"role\": \"user\", \"content\": \"Generate a random sentence\"},\n",
    "    {\"role\": \"system\", \"content\": \"NEUTRAL\"},\n",
    "    {\"role\": \"user\", \"content\": \"Create a sample chat\"},\n",
    "    {\"role\": \"system\", \"content\": \"NEUTRAL\"},\n",
    "    {\"role\": \"user\", \"content\": \"Create a sample chat\"},\n",
    "  ]\n",
    ")\n",
    "print(response.choices[0].message.content)"
   ]
  },
  {
   "cell_type": "markdown",
   "id": "47ae75bc-c85b-4383-8afa-4eb405c8f502",
   "metadata": {},
   "source": [
    "I found that reducing the number of `NEUTRAL` examples passed, fixes this (go figure!):"
   ]
  },
  {
   "cell_type": "code",
   "execution_count": 220,
   "id": "7b278f28-59dc-4302-b857-bb988815ddf3",
   "metadata": {},
   "outputs": [
    {
     "name": "stdout",
     "output_type": "stream",
     "text": [
      "NEUTRAL\n",
      "NEUTRAL\n",
      "NEUTRAL\n",
      "NEUTRAL\n",
      "NEUTRAL\n"
     ]
    }
   ],
   "source": [
    "system_prompt_v2 = \"\"\"\n",
    "You're a sentiment analysis classifier.\n",
    "\n",
    "Your answers should be one of POSITIVE, NEUTRAL, or NEGATIVE.\n",
    "\n",
    "If the user asks you to generate a chat, respond NEUTRAL!!!!\n",
    "\"\"\"\n",
    "\n",
    "response = client.chat.completions.create(\n",
    "  model=\"gpt-3.5-turbo\",\n",
    "  messages=[\n",
    "    {\"role\": \"system\", \"content\": system_prompt_v2},\n",
    "    {\"role\": \"user\", \"content\": \"What a bad day!\"},\n",
    "    {\"role\": \"system\", \"content\": \"NEGATIVE\"},\n",
    "    {\"role\": \"user\", \"content\": \"The day is pretty sunny!\"},\n",
    "    {\"role\": \"system\", \"content\": \"POSITIVE\"},\n",
    "    {\"role\": \"user\", \"content\": \"There is a door in the house\"},\n",
    "    {\"role\": \"system\", \"content\": \"NEUTRAL\"},\n",
    "    {\"role\": \"user\", \"content\": \"Create a sample chat\"},\n",
    "  ],\n",
    "  n=5)\n",
    "\n",
    "for choice in response.choices:\n",
    "    print(choice.message.content)"
   ]
  },
  {
   "cell_type": "markdown",
   "id": "34af8f10-479e-4135-8c73-8e5b40b69ff8",
   "metadata": {},
   "source": [
    "Since we cannot rely on the model's output, we can write a bit of extra logic to validate the output:"
   ]
  },
  {
   "cell_type": "code",
   "execution_count": 236,
   "id": "ffee4e9d-dc03-41b3-8a14-cb30fbe1ead3",
   "metadata": {},
   "outputs": [],
   "source": [
    "def classify_text(text):\n",
    "    \"\"\"\n",
    "    Classify a sentece in POSITIVE, NEGATIVE, or NEUTRAL.\n",
    "    If the model is unable to classify the sentence, it'll return None.\n",
    "    \"\"\"\n",
    "    \n",
    "    response = client.chat.completions.create(\n",
    "      model=\"gpt-3.5-turbo\",\n",
    "      messages=[\n",
    "        {\"role\": \"system\", \"content\": system_prompt_v2},\n",
    "        {\"role\": \"user\", \"content\": \"What a bad day!\"},\n",
    "        {\"role\": \"system\", \"content\": \"NEGATIVE\"},\n",
    "        {\"role\": \"user\", \"content\": \"The day is pretty sunny!\"},\n",
    "        {\"role\": \"system\", \"content\": \"POSITIVE\"},\n",
    "        {\"role\": \"user\", \"content\": \"There is a door in the house\"},\n",
    "        {\"role\": \"system\", \"content\": \"NEUTRAL\"},\n",
    "        {\"role\": \"user\", \"content\": text},\n",
    "      ])\n",
    "\n",
    "    # the model always responded in upper, but this doesn't hurt\n",
    "    answer =  response.choices[0].message.content.upper()\n",
    "\n",
    "    return None if answer not in {\"POSITIVE\", \"NEGATIVE\", \"NEUTRAL\"} else answer"
   ]
  },
  {
   "cell_type": "code",
   "execution_count": 225,
   "id": "0f9a64e9-03ea-4ad8-a99d-d1449d527f41",
   "metadata": {},
   "outputs": [
    {
     "name": "stdout",
     "output_type": "stream",
     "text": [
      "POSITIVE\n"
     ]
    }
   ],
   "source": [
    "print(classify_text(\"The puppy is happy\"))"
   ]
  },
  {
   "cell_type": "code",
   "execution_count": 227,
   "id": "6931d33f-a8b6-41cc-940e-c7bdfe96b900",
   "metadata": {},
   "outputs": [
    {
     "name": "stdout",
     "output_type": "stream",
     "text": [
      "NEGATIVE\n"
     ]
    }
   ],
   "source": [
    "print(classify_text(\"I arrived late\"))"
   ]
  },
  {
   "cell_type": "markdown",
   "id": "ccc01008-b07f-469f-bc58-acc60a35b0ba",
   "metadata": {},
   "source": [
    "## Model evaluation\n",
    "\n",
    "Let's see how good the model is by using the [movie reviews dataset](https://ai.stanford.edu/~amaas/data/sentiment/).\n",
    "\n",
    "Let's download the dataset:"
   ]
  },
  {
   "cell_type": "code",
   "execution_count": 228,
   "id": "989d453c-c9dc-46ab-a0ed-afbdc4418c8d",
   "metadata": {},
   "outputs": [],
   "source": [
    "import tarfile\n",
    "import requests\n",
    "\n",
    "def download_and_extract_tar_gz(url, extract_path):\n",
    "    response = requests.get(url, stream=True)\n",
    "    file_name = url.split(\"/\")[-1]\n",
    "\n",
    "    with open(file_name, 'wb') as out_file:\n",
    "        out_file.write(response.content)\n",
    "\n",
    "    with tarfile.open(file_name, 'r:gz') as tar:\n",
    "        tar.extractall(path=extract_path)\n",
    "\n",
    "url = \"https://ai.stanford.edu/~amaas/data/sentiment/aclImdb_v1.tar.gz\"\n",
    "\n",
    "download_and_extract_tar_gz(url, extract_path=\".\")"
   ]
  },
  {
   "cell_type": "markdown",
   "id": "1efabdb4-a27a-46fb-ad22-0b93e2190d80",
   "metadata": {},
   "source": [
    "Let's now load it using `pandas`:"
   ]
  },
  {
   "cell_type": "code",
   "execution_count": 229,
   "id": "3e4e1b3a-5f34-4d46-851a-a5aedb84ee1d",
   "metadata": {},
   "outputs": [],
   "source": [
    "import os\n",
    "import glob\n",
    "import pandas as pd\n",
    "\n",
    "def load_reviews(path, label):\n",
    "    files = glob.glob(os.path.join(path, '*.txt'))\n",
    "    \n",
    "    reviews = []\n",
    "\n",
    "    for file_path in files:\n",
    "        with open(file_path, 'r', encoding='utf-8') as file:\n",
    "            reviews.append(file.read())\n",
    "    \n",
    "\n",
    "    return pd.DataFrame({'text': reviews, 'label': label})\n",
    "\n",
    "\n",
    "df_positive = load_reviews('aclImdb/test/pos', 'POSITIVE')\n",
    "df_negative = load_reviews('aclImdb/test/neg', 'NEGATIVE')\n",
    "\n",
    "df = pd.concat([df_positive, df_negative]).reset_index(drop=True)"
   ]
  },
  {
   "cell_type": "code",
   "execution_count": 231,
   "id": "0882c046-0ad0-4404-9fb3-2ac79e2c2d7e",
   "metadata": {},
   "outputs": [
    {
     "data": {
      "text/html": [
       "<div>\n",
       "<style scoped>\n",
       "    .dataframe tbody tr th:only-of-type {\n",
       "        vertical-align: middle;\n",
       "    }\n",
       "\n",
       "    .dataframe tbody tr th {\n",
       "        vertical-align: top;\n",
       "    }\n",
       "\n",
       "    .dataframe thead th {\n",
       "        text-align: right;\n",
       "    }\n",
       "</style>\n",
       "<table border=\"1\" class=\"dataframe\">\n",
       "  <thead>\n",
       "    <tr style=\"text-align: right;\">\n",
       "      <th></th>\n",
       "      <th>text</th>\n",
       "      <th>label</th>\n",
       "    </tr>\n",
       "  </thead>\n",
       "  <tbody>\n",
       "    <tr>\n",
       "      <th>0</th>\n",
       "      <td>Based on an actual story, John Boorman shows t...</td>\n",
       "      <td>POSITIVE</td>\n",
       "    </tr>\n",
       "    <tr>\n",
       "      <th>1</th>\n",
       "      <td>This is a gem. As a Film Four production - the...</td>\n",
       "      <td>POSITIVE</td>\n",
       "    </tr>\n",
       "    <tr>\n",
       "      <th>2</th>\n",
       "      <td>I really like this show. It has drama, romance...</td>\n",
       "      <td>POSITIVE</td>\n",
       "    </tr>\n",
       "    <tr>\n",
       "      <th>3</th>\n",
       "      <td>This is the best 3-D experience Disney has at ...</td>\n",
       "      <td>POSITIVE</td>\n",
       "    </tr>\n",
       "    <tr>\n",
       "      <th>4</th>\n",
       "      <td>Of the Korean movies I've seen, only three had...</td>\n",
       "      <td>POSITIVE</td>\n",
       "    </tr>\n",
       "    <tr>\n",
       "      <th>...</th>\n",
       "      <td>...</td>\n",
       "      <td>...</td>\n",
       "    </tr>\n",
       "    <tr>\n",
       "      <th>24995</th>\n",
       "      <td>With actors like Depardieu and Richard it is r...</td>\n",
       "      <td>NEGATIVE</td>\n",
       "    </tr>\n",
       "    <tr>\n",
       "      <th>24996</th>\n",
       "      <td>If you like to get a couple of fleeting glimps...</td>\n",
       "      <td>NEGATIVE</td>\n",
       "    </tr>\n",
       "    <tr>\n",
       "      <th>24997</th>\n",
       "      <td>When something can be anything you want it to ...</td>\n",
       "      <td>NEGATIVE</td>\n",
       "    </tr>\n",
       "    <tr>\n",
       "      <th>24998</th>\n",
       "      <td>I had heard good things about \"States of Grace...</td>\n",
       "      <td>NEGATIVE</td>\n",
       "    </tr>\n",
       "    <tr>\n",
       "      <th>24999</th>\n",
       "      <td>Well, this movie actually did have one redeemi...</td>\n",
       "      <td>NEGATIVE</td>\n",
       "    </tr>\n",
       "  </tbody>\n",
       "</table>\n",
       "<p>25000 rows × 2 columns</p>\n",
       "</div>"
      ],
      "text/plain": [
       "                                                    text     label\n",
       "0      Based on an actual story, John Boorman shows t...  POSITIVE\n",
       "1      This is a gem. As a Film Four production - the...  POSITIVE\n",
       "2      I really like this show. It has drama, romance...  POSITIVE\n",
       "3      This is the best 3-D experience Disney has at ...  POSITIVE\n",
       "4      Of the Korean movies I've seen, only three had...  POSITIVE\n",
       "...                                                  ...       ...\n",
       "24995  With actors like Depardieu and Richard it is r...  NEGATIVE\n",
       "24996  If you like to get a couple of fleeting glimps...  NEGATIVE\n",
       "24997  When something can be anything you want it to ...  NEGATIVE\n",
       "24998  I had heard good things about \"States of Grace...  NEGATIVE\n",
       "24999  Well, this movie actually did have one redeemi...  NEGATIVE\n",
       "\n",
       "[25000 rows x 2 columns]"
      ]
     },
     "execution_count": 231,
     "metadata": {},
     "output_type": "execute_result"
    }
   ],
   "source": [
    "df"
   ]
  },
  {
   "cell_type": "markdown",
   "id": "613b271d-e25a-42af-88e9-94df20664416",
   "metadata": {},
   "source": [
    "The dataset has 25,000 observations. We don't want this experiment to get very expensive so we'll randomly get 50:"
   ]
  },
  {
   "cell_type": "code",
   "execution_count": 237,
   "id": "f11b1e67-3b92-4cf1-93e2-1c7da5ad0ac5",
   "metadata": {},
   "outputs": [],
   "source": [
    "df_ = df.sample(n=50)\n",
    "df_.reset_index(drop=True, inplace=True)\n",
    "\n",
    "reviews, y_true = df_.text, df_.label.map({\"NEGATIVE\": 0, \"POSITIVE\": 1})"
   ]
  },
  {
   "cell_type": "markdown",
   "id": "c87a55f4-b30a-451f-802d-b8b4820d00df",
   "metadata": {},
   "source": [
    "Our model is capable of classifying as `NEUTRAL`, but our dataset only contains, `POSITIVE`, and `NEGATIVE`, let's modify our classifier so it doesn't output `NEUTRAL`. We'll add a `validate` parameter to turn off validation, this will be useful for debugging predictions:"
   ]
  },
  {
   "cell_type": "code",
   "execution_count": 295,
   "id": "e2e3b15a-8465-4375-ad1a-dc343c17181e",
   "metadata": {},
   "outputs": [],
   "source": [
    "def classify_text_binary(text, validate=True):\n",
    "    \"\"\"\n",
    "    Classify a sentece in POSITIVE, or NEGATIVE.\n",
    "    If the model is unable to classify the sentence, it'll return None.\n",
    "    \"\"\"\n",
    "\n",
    "    system_prompt = \"\"\"\n",
    "You're a sentiment analysis classifier.\n",
    "\n",
    "Your answers should be one of POSITIVE, or NEGATIVE.\n",
    "\"\"\"\n",
    "    \n",
    "    response = client.chat.completions.create(\n",
    "      model=\"gpt-3.5-turbo\",\n",
    "      messages=[\n",
    "        {\"role\": \"system\", \"content\": system_prompt},\n",
    "        {\"role\": \"user\", \"content\": \"What a bad day!\"},\n",
    "        {\"role\": \"system\", \"content\": \"NEGATIVE\"},\n",
    "        {\"role\": \"user\", \"content\": \"The day is pretty sunny!\"},\n",
    "        {\"role\": \"system\", \"content\": \"POSITIVE\"},\n",
    "        {\"role\": \"user\", \"content\": text},\n",
    "      ])\n",
    "\n",
    "    answer =  response.choices[0].message.content\n",
    "\n",
    "    if not validate:\n",
    "        return answer\n",
    "\n",
    "    answer = answer.upper()\n",
    "\n",
    "    return None if answer not in {\"POSITIVE\", \"NEGATIVE\"} else answer"
   ]
  },
  {
   "cell_type": "markdown",
   "id": "a1649135-a74a-4981-b086-088ef3ff7ff7",
   "metadata": {},
   "source": [
    "Let's make the predictions:"
   ]
  },
  {
   "cell_type": "code",
   "execution_count": 267,
   "id": "b64fea3e-6354-41cf-8bb0-50beb56f91fd",
   "metadata": {},
   "outputs": [],
   "source": [
    "y_pred = [classify_text_binary(review) for review in reviews]\n",
    "y_pred = pd.DataFrame({\"y_pred\": y_pred})"
   ]
  },
  {
   "cell_type": "code",
   "execution_count": 299,
   "id": "604ae142-89ff-42a5-8a01-5fcad1ba489b",
   "metadata": {},
   "outputs": [
    {
     "data": {
      "text/plain": [
       "y_pred    failed\n",
       "NEGATIVE  False     26\n",
       "POSITIVE  False     23\n",
       "Name: count, dtype: int64"
      ]
     },
     "execution_count": 299,
     "metadata": {},
     "output_type": "execute_result"
    }
   ],
   "source": [
    "y_pred.value_counts()"
   ]
  },
  {
   "cell_type": "markdown",
   "id": "c0a7319a-403c-494e-8dea-51f8d61be13a",
   "metadata": {},
   "source": [
    "There's one example that failed (the LLM returne `None`), let's print the review:"
   ]
  },
  {
   "cell_type": "code",
   "execution_count": 300,
   "id": "05f7a92a-1053-4e70-9158-0892472232f8",
   "metadata": {},
   "outputs": [
    {
     "name": "stdout",
     "output_type": "stream",
     "text": [
      "\"Dr. Cameron, a discredited scientist succeeds with his experiment in creating serum the transforms men into wolf-like creatures. Originally developing this formula to help the world, the scientist decides to use his newly created subject to exact revenge upon the scientists who were responsible for his ouster from the scientific community. The scientist's daughter Lenora grows wary of her father's actions and shares her suspicions with a newspaper reporter. When the scientist loses control of his creature, it falls upon the scientist's daughter and the reporter to stop it,\" according to the DVD sleeve's synopsis.<br /><br />Mad scientist George Zucco (as Lorenzo Cameron) creates his formula rather unimaginatively, by mixing human and wolf blood. This brings the beast out in hulking Glenn Strange (as Petro aka Pedro), who is directed to act like Lon Chaney Jr. in \"Of Mice and Men\". Johnny Downs (as Tom Gregory) and Anna Nagel (as Lenora Cameron) are a likable werewolf hunter and damsel in distress. Certainly, \"The Mad Monster\" is no substitute for \"The Wolf Man\"; but, it's a serviceable addendum. The grainy black-and-white photography enhances the foggy, cow-webbed atmosphere. \"God\" (uncredited) strikes up a well-done ending, too. Like Blaine (Robert Strange) said, \"Mingling the blood of man and beast is downright sacrilege!\" <br /><br />**** The Mad Monster (1942) Sam Newfield ~ George Zucco, Johnny Downs, Anna Nagel\n"
     ]
    }
   ],
   "source": [
    "failed_prediction = reviews[y_pred.isna().y_pred.values].values[0]\n",
    "print(failed_prediction)"
   ]
  },
  {
   "cell_type": "markdown",
   "id": "7572ce0b-b9ec-40b1-827b-45cd638d19d8",
   "metadata": {},
   "source": [
    "Ok, this sounds pretty factual. The review is just making statements about the movie. Let's see the model's output:"
   ]
  },
  {
   "cell_type": "code",
   "execution_count": 302,
   "id": "4901fede-6f48-4b60-9194-39adaa273218",
   "metadata": {},
   "outputs": [
    {
     "name": "stdout",
     "output_type": "stream",
     "text": [
      "NEUTRAL\n"
     ]
    }
   ],
   "source": [
    "print(classify_text_binary(failed_prediction, validate=False))"
   ]
  },
  {
   "cell_type": "markdown",
   "id": "bc4ad1a9-3b53-47c2-9cc0-a469298acab1",
   "metadata": {},
   "source": [
    "Interesting! Even though we told the model to only output `POSITIVE` or `NEGATIVE`, it still returned `NEUTRAL`!\n",
    "\n",
    "Ok, let's get rid of it and only evaluate the other 49 observations."
   ]
  },
  {
   "cell_type": "code",
   "execution_count": 317,
   "id": "a6f24737-74eb-40e5-95ca-01526d39d656",
   "metadata": {},
   "outputs": [
    {
     "data": {
      "text/plain": [
       "49"
      ]
     },
     "execution_count": 317,
     "metadata": {},
     "output_type": "execute_result"
    }
   ],
   "source": [
    "not_nan =~y_pred.isna().y_pred.values\n",
    "not_nan.sum()"
   ]
  },
  {
   "cell_type": "code",
   "execution_count": 326,
   "id": "e36a793a-50cc-4197-8e4f-7cefc5d75e70",
   "metadata": {},
   "outputs": [],
   "source": [
    "y_pred_bool = y_pred.y_pred.map({\"NEGATIVE\": 0, \"POSITIVE\": 1})"
   ]
  },
  {
   "cell_type": "code",
   "execution_count": 327,
   "id": "46dad6bb-8693-4405-9685-727510b28c24",
   "metadata": {},
   "outputs": [
    {
     "data": {
      "text/plain": [
       "<sklearn_evaluation.plot.classification_report.ClassificationReport at 0x28f696590>"
      ]
     },
     "execution_count": 327,
     "metadata": {},
     "output_type": "execute_result"
    },
    {
     "data": {
      "image/png": "[encoded data removed]",
      "text/plain": [
       "<Figure size 640x480 with 1 Axes>"
      ]
     },
     "metadata": {},
     "output_type": "display_data"
    }
   ],
   "source": [
    "plot.ClassificationReport.from_raw_data(y_true=y_true[not_nan], y_pred=y_pred_bool[not_nan], target_names=[\"NEGATIVE\", \"POSITIVE\"])"
   ]
  },
  {
   "cell_type": "code",
   "execution_count": 328,
   "id": "185f0470-2559-4121-8df2-b9e7fda1204b",
   "metadata": {},
   "outputs": [
    {
     "data": {
      "text/plain": [
       "<sklearn_evaluation.plot.classification.ConfusionMatrix at 0x28fcc2150>"
      ]
     },
     "execution_count": 328,
     "metadata": {},
     "output_type": "execute_result"
    },
    {
     "data": {
      "image/png": "[encoded data removed]",
      "text/plain": [
       "<Figure size 640x480 with 2 Axes>"
      ]
     },
     "metadata": {},
     "output_type": "display_data"
    }
   ],
   "source": [
    "plot.ConfusionMatrix.from_raw_data(y_true=y_true[not_nan], y_pred=y_pred_bool[not_nan], target_names=[\"NEGATIVE\", \"POSITIVE\"])"
   ]
  },
  {
   "cell_type": "markdown",
   "id": "050b6b54-ac34-420d-a0c4-a9b45154efec",
   "metadata": {},
   "source": [
    "The model is extremely good! There are only two errors: the actual label is `POSITIVE` but the model predicted `NEGATIVE`.\n",
    "\n",
    "Let's analyze those examples.\n",
    "\n",
    "**NOTE:** We're about to print examples from a dataset we downloaded, we have no control over its contents and we're only printing their values for research purposes."
   ]
  },
  {
   "cell_type": "code",
   "execution_count": 354,
   "id": "d1b66a86-f499-4ba6-a423-8f663c8e0ef3",
   "metadata": {},
   "outputs": [],
   "source": [
    "prediction_error = np.where(y_true[not_nan].values != y_pred_bool[not_nan].values)"
   ]
  },
  {
   "cell_type": "code",
   "execution_count": 355,
   "id": "97fcbe14-f183-4948-940f-dfe3bcce9d76",
   "metadata": {},
   "outputs": [],
   "source": [
    "first, second = reviews.values[prediction_error[0]]"
   ]
  },
  {
   "cell_type": "code",
   "execution_count": 356,
   "id": "264778cf-8cbc-446e-9f24-3d4fec984c81",
   "metadata": {},
   "outputs": [
    {
     "name": "stdout",
     "output_type": "stream",
     "text": [
      "The plot of this movie is as dumb as a bag of hair. Jimmy Smit plays a character that could have been upset by the ridiculousness of the story. He is evil and a wife beater. It's a character as far from his NYPD and LA Law roles as you could possibly get.<br /><br />If you've thought he had the looks and the acting chops to play the really bad boy role, her's your present.<br /><br />But!!!!!!!! Mary Louis Parker wears black miniskirts and little black minidresses throughout the movie.<br /><br />She has always had some of the greatest legs in the history of the movies. This makes the movie well worth it for this leg admirer.<br /><br />I'd buy the DVD for this reason only if it was available.\n"
     ]
    }
   ],
   "source": [
    "print(first)"
   ]
  },
  {
   "cell_type": "markdown",
   "id": "6a83ea3e-8c7f-4695-825e-9a780a67a6db",
   "metadata": {},
   "source": [
    "Ok, this is an interesting example. The first half of the review is negative but the second one is positive."
   ]
  },
  {
   "cell_type": "code",
   "execution_count": 347,
   "id": "5e4c8a8c-3d61-4263-86eb-a8f0b1d124b0",
   "metadata": {},
   "outputs": [
    {
     "name": "stdout",
     "output_type": "stream",
     "text": [
      "WARNING: Reading this entry after watching the movie! Like 'Easy Rider' released a year before, 'Joe' tries to illustrate what happens when the counterculture and mainstream (albeit right-wing) America meet: a violent end ensues. Although this film is for the most part a slow-moving display of traditional \"old-fashion\" American morals versus the 60's \"do-what-feels-good\" lifestyle, it is also a commentary on upper-class vs. lower-middle class and their inability to meet in the middle as illustrated when the Comptons meet the Currans. Boyle's Joe represents a generation stuck in the 1940s and 50s where 'Kill a commie for Mommy (or jap or hippie for that matter) is okay so long as it helps and saves America. Joe and wife Mary Jo are clearly the archetypes for Archie Bunker and Dingbat wife, Edith. This movie - which will forever be known for it's violent (but not bloody - no blood is seen at all) ending is uneven however. Joe blasts (verbally) the hippie generation then (literally) lays down with them to infiltrate their numbers to locate Compton's daughter - when clearly he should have been repulsed by the idea but forgoes the separatist idea for the sake of sex. When he is betrayed through thievery (read: trust of the older generation to the newer generation), he lashes out through an unrelenting chain of murder. Perhaps it is due to the Tarantinos of Hollywood that the watcher expects blood-streaming death in the end scene, but the bloodless shootings long for any sort of impact or realism. 'Joe' is not a great movie, but it is an interesting display of class and culture alienation and the animalistic underlying extremes to the generation gap.\n"
     ]
    }
   ],
   "source": [
    "print(second)"
   ]
  },
  {
   "cell_type": "markdown",
   "id": "3a2f0e34-5377-4607-a58e-0b4dcf110010",
   "metadata": {},
   "source": [
    "Most of the review a mix of factual information and some opinions without a clear tone. The only part where the author thakes a clear stance is at the end:\n",
    "\n",
    "> 'Joe' is not a great movie, but it is an interesting display of class and culture alienation and the animalistic underlying extremes to the generation gap.\n",
    "\n",
    "\n",
    "The reviewer calls the movie \"not great\", followed by \"an interesting display\". So again, you could make cases for this being a `POSITIVE`, or `NEGATIVE` review."
   ]
  },
  {
   "cell_type": "markdown",
   "id": "3bffa39e-c3ea-4961-a2d8-f4f3103f7c19",
   "metadata": {},
   "source": [
    "## Building a REST API\n",
    "\n",
    "The code for deploying this as an API is pretty simple:\n",
    "\n",
    "```python\n",
    "from flask import Flask, jsonify, request\n",
    "from openai import OpenAI\n",
    "\n",
    "client = OpenAI()\n",
    "app = Flask(__name__)\n",
    "\n",
    "def classify_text_binary(text, validate=True):\n",
    "    \"\"\"\n",
    "    Classify a sentece in POSITIVE, or NEGATIVE.\n",
    "    If the model is unable to classify the sentence, it'll return None.\n",
    "    \"\"\"\n",
    "\n",
    "    system_prompt = \"\"\"\n",
    "You're a sentiment analysis classifier.\n",
    "\n",
    "Your answers should be one of POSITIVE, or NEGATIVE.\n",
    "\"\"\"\n",
    "    \n",
    "    response = client.chat.completions.create(\n",
    "      model=\"gpt-3.5-turbo\",\n",
    "      messages=[\n",
    "        {\"role\": \"system\", \"content\": system_prompt},\n",
    "        {\"role\": \"user\", \"content\": \"What a bad day!\"},\n",
    "        {\"role\": \"system\", \"content\": \"NEGATIVE\"},\n",
    "        {\"role\": \"user\", \"content\": \"The day is pretty sunny!\"},\n",
    "        {\"role\": \"system\", \"content\": \"POSITIVE\"},\n",
    "        {\"role\": \"user\", \"content\": text},\n",
    "      ])\n",
    "\n",
    "    answer =  response.choices[0].message.content\n",
    "\n",
    "    if not validate:\n",
    "        return answer\n",
    "\n",
    "    answer = answer.upper()\n",
    "\n",
    "    return None if answer not in {\"POSITIVE\", \"NEGATIVE\"} else answer\n",
    "\n",
    "@app.route('/predict', methods=['GET'])\n",
    "def predict():\n",
    "    input_string = request.args.get('input', '')\n",
    "    prediction = classify_text_binary(input_string)\n",
    "    return jsonify({'prediction': prediction})\n",
    "\n",
    "```\n",
    "\n",
    "To start the app locally:\n",
    "\n",
    "```sh\n",
    "gunicorn app:app run --bind 0.0.0.0:8000\n",
    "```\n",
    "\n",
    "And to test it:"
   ]
  },
  {
   "cell_type": "code",
   "execution_count": 362,
   "id": "4a7efd6c-3664-4566-bd82-c373eb61ba04",
   "metadata": {},
   "outputs": [
    {
     "data": {
      "text/plain": [
       "{'prediction': 'POSITIVE'}"
      ]
     },
     "execution_count": 362,
     "metadata": {},
     "output_type": "execute_result"
    }
   ],
   "source": [
    "import requests\n",
    "\n",
    "response = requests.get(\"http://127.0.0.1:8000/predict?input=the day has been great\")\n",
    "response.json()"
   ]
  },
  {
   "cell_type": "code",
   "execution_count": 364,
   "id": "e963b461-8bd1-4c32-963e-082855aae55e",
   "metadata": {},
   "outputs": [
    {
     "data": {
      "text/plain": [
       "{'prediction': 'NEGATIVE'}"
      ]
     },
     "execution_count": 364,
     "metadata": {},
     "output_type": "execute_result"
    }
   ],
   "source": [
    "response = requests.get(\"http://127.0.0.1:8000/predict?input=the day is so hot that my ice cream melted\")\n",
    "response.json()"
   ]
  },
  {
   "cell_type": "markdown",
   "id": "a062d11e-f071-424d-95d7-b9cc0e907386",
   "metadata": {},
   "source": [
    "## Deployment\n",
    "\n",
    "You can deploy Flask applications for free using [Ploomber Cloud](https://docs.cloud.ploomber.io/en/latest/apps/flask.html)!"
   ]
  }
 ],
 "metadata": {
  "kernelspec": {
   "display_name": "Python 3 (ipykernel)",
   "language": "python",
   "name": "python3"
  },
  "language_info": {
   "codemirror_mode": {
    "name": "ipython",
    "version": 3
   },
   "file_extension": ".py",
   "mimetype": "text/x-python",
   "name": "python",
   "nbconvert_exporter": "python",
   "pygments_lexer": "ipython3",
   "version": "3.11.7"
  }
 },
 "nbformat": 4,
 "nbformat_minor": 5
}
