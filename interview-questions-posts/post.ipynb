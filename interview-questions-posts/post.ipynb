{
 "cells": [
  {
   "attachments": {},
   "cell_type": "markdown",
   "metadata": {},
   "source": [
    "Dataset 1: Absenteeism at work. \n",
    "\n",
    "Source: UCI Machine Learning Repository \n",
    "\n",
    "URL: https://archive.ics.uci.edu/ml/datasets/Absenteeism+at+work\n"
   ]
  },
  {
   "cell_type": "code",
   "execution_count": 1,
   "metadata": {},
   "outputs": [],
   "source": [
    "import requests\n",
    "import zipfile\n",
    "import io\n",
    "import os\n",
    "import pandas as pd\n",
    "from sqlalchemy.engine import create_engine\n",
    "import openai \n",
    "from dotenv import load_dotenv\n",
    "from IPython.display import display, Markdown\n",
    "\n",
    "url = \"https://archive.ics.uci.edu/ml/machine-learning-databases/00445/Absenteeism_at_work_AAA.zip\"\n",
    "\n",
    "# download the ZIP file\n",
    "response = requests.get(url)\n",
    "\n",
    "# extract the contents of the ZIP file\n",
    "zf = zipfile.ZipFile(io.BytesIO(response.content))\n",
    "df = pd.read_csv(zf.open(\"Absenteeism_at_work.csv\"), sep=\";\", index_col=0)\n",
    "\n",
    "# Replace spaces with underscores in the column names\n",
    "df.columns = [c.replace(\" \", \"_\").replace(\"/\",\"_per_\") for c in df.columns]"
   ]
  },
  {
   "cell_type": "code",
   "execution_count": 2,
   "metadata": {},
   "outputs": [
    {
     "data": {
      "text/plain": [
       "740"
      ]
     },
     "execution_count": 2,
     "metadata": {},
     "output_type": "execute_result"
    }
   ],
   "source": [
    "engine = create_engine(\"sqlite://\")\n",
    "\n",
    "df.to_sql(\"absenteeism\", engine)"
   ]
  },
  {
   "cell_type": "code",
   "execution_count": 3,
   "metadata": {},
   "outputs": [
    {
     "name": "stdout",
     "output_type": "stream",
     "text": [
      "\u001b[33mThere's a new jupysql version available (0.7.4), you're running 0.7.2. To upgrade: pip install jupysql --upgrade\u001b[0m\n"
     ]
    }
   ],
   "source": [
    "%load_ext sql\n",
    "%sql engine"
   ]
  },
  {
   "cell_type": "code",
   "execution_count": 4,
   "metadata": {},
   "outputs": [
    {
     "name": "stdout",
     "output_type": "stream",
     "text": [
      "*  sqlite://\n",
      "Done.\n"
     ]
    },
    {
     "data": {
      "text/html": [
       "<table>\n",
       "    <thead>\n",
       "        <tr>\n",
       "            <th>ID</th>\n",
       "            <th>Reason_for_absence</th>\n",
       "            <th>Month_of_absence</th>\n",
       "            <th>Day_of_the_week</th>\n",
       "            <th>Seasons</th>\n",
       "            <th>Transportation_expense</th>\n",
       "            <th>Distance_from_Residence_to_Work</th>\n",
       "            <th>Service_time</th>\n",
       "            <th>Age</th>\n",
       "            <th>Work_load_Average_per_day_</th>\n",
       "            <th>Hit_target</th>\n",
       "            <th>Disciplinary_failure</th>\n",
       "            <th>Education</th>\n",
       "            <th>Son</th>\n",
       "            <th>Social_drinker</th>\n",
       "            <th>Social_smoker</th>\n",
       "            <th>Pet</th>\n",
       "            <th>Weight</th>\n",
       "            <th>Height</th>\n",
       "            <th>Body_mass_index</th>\n",
       "            <th>Absenteeism_time_in_hours</th>\n",
       "        </tr>\n",
       "    </thead>\n",
       "    <tbody>\n",
       "        <tr>\n",
       "            <td>11</td>\n",
       "            <td>26</td>\n",
       "            <td>7</td>\n",
       "            <td>3</td>\n",
       "            <td>1</td>\n",
       "            <td>289</td>\n",
       "            <td>36</td>\n",
       "            <td>13</td>\n",
       "            <td>33</td>\n",
       "            <td>239.554</td>\n",
       "            <td>97</td>\n",
       "            <td>0</td>\n",
       "            <td>1</td>\n",
       "            <td>2</td>\n",
       "            <td>1</td>\n",
       "            <td>0</td>\n",
       "            <td>1</td>\n",
       "            <td>90</td>\n",
       "            <td>172</td>\n",
       "            <td>30</td>\n",
       "            <td>4</td>\n",
       "        </tr>\n",
       "        <tr>\n",
       "            <td>36</td>\n",
       "            <td>0</td>\n",
       "            <td>7</td>\n",
       "            <td>3</td>\n",
       "            <td>1</td>\n",
       "            <td>118</td>\n",
       "            <td>13</td>\n",
       "            <td>18</td>\n",
       "            <td>50</td>\n",
       "            <td>239.554</td>\n",
       "            <td>97</td>\n",
       "            <td>1</td>\n",
       "            <td>1</td>\n",
       "            <td>1</td>\n",
       "            <td>1</td>\n",
       "            <td>0</td>\n",
       "            <td>0</td>\n",
       "            <td>98</td>\n",
       "            <td>178</td>\n",
       "            <td>31</td>\n",
       "            <td>0</td>\n",
       "        </tr>\n",
       "        <tr>\n",
       "            <td>3</td>\n",
       "            <td>23</td>\n",
       "            <td>7</td>\n",
       "            <td>4</td>\n",
       "            <td>1</td>\n",
       "            <td>179</td>\n",
       "            <td>51</td>\n",
       "            <td>18</td>\n",
       "            <td>38</td>\n",
       "            <td>239.554</td>\n",
       "            <td>97</td>\n",
       "            <td>0</td>\n",
       "            <td>1</td>\n",
       "            <td>0</td>\n",
       "            <td>1</td>\n",
       "            <td>0</td>\n",
       "            <td>0</td>\n",
       "            <td>89</td>\n",
       "            <td>170</td>\n",
       "            <td>31</td>\n",
       "            <td>2</td>\n",
       "        </tr>\n",
       "    </tbody>\n",
       "</table>"
      ],
      "text/plain": [
       "[(11, 26, 7, 3, 1, 289, 36, 13, 33, 239.554, 97, 0, 1, 2, 1, 0, 1, 90, 172, 30, 4),\n",
       " (36, 0, 7, 3, 1, 118, 13, 18, 50, 239.554, 97, 1, 1, 1, 1, 0, 0, 98, 178, 31, 0),\n",
       " (3, 23, 7, 4, 1, 179, 51, 18, 38, 239.554, 97, 0, 1, 0, 1, 0, 0, 89, 170, 31, 2)]"
      ]
     },
     "execution_count": 4,
     "metadata": {},
     "output_type": "execute_result"
    }
   ],
   "source": [
    "%%sql\n",
    "SELECT *\n",
    "FROM absenteeism\n",
    "LIMIT 3"
   ]
  },
  {
   "attachments": {},
   "cell_type": "markdown",
   "metadata": {},
   "source": [
    "## Natural language queries and their equivalent SQL commands\n",
    "\n",
    "Note: you will need to create a `.env` file with the following parameters:\n",
    "\n",
    "```\n",
    "    OPENAI_API_KEY=<your open AI API key>\n",
    "```"
   ]
  },
  {
   "cell_type": "code",
   "execution_count": 8,
   "metadata": {},
   "outputs": [],
   "source": [
    "load_dotenv('.env')\n",
    "OPENAI_API_KEY = os.getenv('OPENAI_API_KEY')"
   ]
  },
  {
   "cell_type": "code",
   "execution_count": 9,
   "metadata": {},
   "outputs": [],
   "source": [
    "class Prompter:\n",
    "    def __init__(self, gpt_model):\n",
    "        if not os.environ.get(\"OPENAI_API_KEY\"):\n",
    "            raise Exception(\"Please set the OPENAI_API_KEY environment variable\")\n",
    "\n",
    "        openai.api_key = os.environ.get(\"OPENAI_API_KEY\")\n",
    "\n",
    "        self.gpt_model = gpt_model\n",
    "\n",
    "    def prompt_model_print(self, messages: list):\n",
    "        response = openai.ChatCompletion.create(model=self.gpt_model, messages=messages)\n",
    "        display(Markdown(response[\"choices\"][0][\"message\"][\"content\"]))\n",
    "    \n",
    "    def prompt_model_return(self, messages: list):\n",
    "        response = openai.ChatCompletion.create(model=self.gpt_model, messages=messages)\n",
    "        return response[\"choices\"][0][\"message\"][\"content\"]\n",
    "    "
   ]
  },
  {
   "cell_type": "code",
   "execution_count": 25,
   "metadata": {},
   "outputs": [],
   "source": [
    "sample = dict(list(zip(df.columns, df.iloc[0].to_list())))"
   ]
  },
  {
   "cell_type": "code",
   "execution_count": 29,
   "metadata": {},
   "outputs": [],
   "source": [
    "prompter = Prompter(\"gpt-4\")\n",
    "\n",
    "datagen_prompts = [\n",
    "    {\"role\" : \"system\", \"content\" : \"You are an interviewer, your goal is to hire an analyst specializing in SQL. \\\n",
    "     You are presented with a dataset, and you form natural language questions and their corresponding SQL queries. \\\n",
    "     Your goal is to test a candidate's ability to generate SQL queries from natural language questions.\"},\n",
    "    {\"role\" : \"user\", \"content\" : f\"Please generate a total of 18 natural language questions (with 6 'easy', 6 'medium' and 6 'hard' levels of difficulty, 'medium' questions should include 'JOIN', 'hard' questions should include using subqueries), and their corresponding SQL queries for data with columns {', '.join(df.columns)} and sample values {sample}. \\\n",
    "     The table is called 'absenteeism'\"},\n",
    "]"
   ]
  },
  {
   "cell_type": "code",
   "execution_count": 30,
   "metadata": {},
   "outputs": [
    {
     "data": {
      "text/markdown": [
       "Easy Questions:\n",
       "1. How many records are in the absenteeism table?\n",
       "   SELECT COUNT(*) FROM absenteeism;\n",
       "\n",
       "2. How many unique employees are listed in the dataset?\n",
       "   SELECT COUNT(DISTINCT Age) FROM absenteeism;\n",
       "\n",
       "3. What is the average distance from residence to work?\n",
       "   SELECT AVG(Distance_from_Residence_to_Work) FROM absenteeism;\n",
       "\n",
       "4. What is the average number of hours of absenteeism?\n",
       "   SELECT AVG(Absenteeism_time_in_hours) FROM absenteeism;\n",
       "\n",
       "5. How many employees are social drinkers?\n",
       "   SELECT COUNT(*) FROM absenteeism WHERE Social_drinker = 1;\n",
       "\n",
       "6. How many employees are social smokers?\n",
       "   SELECT COUNT(*) FROM absenteeism WHERE Social_smoker = 1;\n",
       "\n",
       "\n",
       "Medium Questions:\n",
       "7. On which days of the week does the average absenteeism time exceed 4 hours?\n",
       "   SELECT Day_of_the_week\n",
       "   FROM absenteeism\n",
       "   GROUP BY Day_of_the_week\n",
       "   HAVING AVG(Absenteeism_time_in_hours) > 4;\n",
       "\n",
       "8. What is the average transportation expense for each season?\n",
       "   SELECT Seasons, AVG(Transportation_expense)\n",
       "   FROM absenteeism\n",
       "   GROUP BY Seasons;\n",
       "\n",
       "9. Which reasons for absence are more frequent for social drinkers than social non-drinkers?\n",
       "   SELECT Reason_for_absence\n",
       "   FROM absenteeism\n",
       "   WHERE Social_drinker = 1\n",
       "   GROUP BY Reason_for_absence\n",
       "   HAVING COUNT(*) > (SELECT COUNT(*) FROM absenteeism WHERE Social_drinker = 0 GROUP BY Reason_for_absence);\n",
       "\n",
       "10. Calculate the summary absenteeism time per reason for absence.\n",
       "    SELECT Reason_for_absence, SUM(Absenteeism_time_in_hours)\n",
       "    FROM absenteeism\n",
       "    GROUP BY Reason_for_absence;\n",
       "\n",
       "11. What are the top 3 reasons for absence in each season?\n",
       "    SELECT Seasons, Reason_for_absence, COUNT(*)\n",
       "    FROM absenteeism\n",
       "    GROUP BY Seasons, Reason_for_absence\n",
       "    ORDER BY Seasons, COUNT(*) DESC\n",
       "    LIMIT 3;\n",
       "\n",
       "12. What is the average distance from residence to work for each education level?\n",
       "    SELECT Education, AVG(Distance_from_Residence_to_Work)\n",
       "    FROM absenteeism\n",
       "    GROUP BY Education;\n",
       "\n",
       "\n",
       "Hard Questions:\n",
       "13. Find employees whose total absenteeism hours are above the average.\n",
       "    SELECT Age\n",
       "    FROM absenteeism\n",
       "    GROUP BY Age\n",
       "    HAVING SUM(Absenteeism_time_in_hours) > (SELECT AVG(Absenteeism_time_in_hours) FROM absenteeism);\n",
       "\n",
       "14. What is the average absenteeism time for employees with BMI higher than the average BMI?\n",
       "    SELECT AVG(Absenteeism_time_in_hours)\n",
       "    FROM absenteeism\n",
       "    WHERE Body_mass_index > (SELECT AVG(Body_mass_index) FROM absenteeism);\n",
       "\n",
       "15. How many employees have a higher transportation expense than the average transportation expense and live closer than the average distance from work?\n",
       "    SELECT COUNT(*)\n",
       "    FROM absenteeism\n",
       "    WHERE Transportation_expense > (SELECT AVG(Transportation_expense) FROM absenteeism)\n",
       "    AND Distance_from_Residence_to_Work < (SELECT AVG(Distance_from_Residence_to_Work) FROM absenteeism);\n",
       "\n",
       "16. Find the age of employees who have been absent for more than 5 hours due to reason 26.\n",
       "    SELECT Age\n",
       "    FROM absenteeism\n",
       "    WHERE Reason_for_absence = 26\n",
       "    AND Absenteeism_time_in_hours > 5;\n",
       "\n",
       "17. Find the top 3 ages with the highest total absenteeism hours, excluding disciplinary failures.\n",
       "    SELECT Age, SUM(Absenteeism_time_in_hours)\n",
       "    FROM absenteeism\n",
       "    WHERE Disciplinary_failure = 0\n",
       "    GROUP BY Age\n",
       "    ORDER BY SUM(Absenteeism_time_in_hours) DESC\n",
       "    LIMIT 3;\n",
       "\n",
       "18. Which months have a higher total absenteeism time than the previous month?\n",
       "    SELECT Month_of_absence\n",
       "    FROM absenteeism\n",
       "    WHERE (SELECT SUM(Absenteeism_time_in_hours) FROM absenteeism WHERE Month_of_absence = t.Month_of_absence - 1)\n",
       "          < (SELECT SUM(Absenteeism_time_in_hours) FROM absenteeism WHERE Month_of_absence = t.Month_of_absence)\n",
       "          AS t;"
      ],
      "text/plain": [
       "<IPython.core.display.Markdown object>"
      ]
     },
     "metadata": {},
     "output_type": "display_data"
    }
   ],
   "source": [
    "prompter.prompt_model_print(datagen_prompts)"
   ]
  },
  {
   "attachments": {},
   "cell_type": "markdown",
   "metadata": {},
   "source": [
    "Find the total weight of all absente workers in the company in the month of April:"
   ]
  },
  {
   "cell_type": "code",
   "execution_count": 27,
   "metadata": {},
   "outputs": [
    {
     "name": "stdout",
     "output_type": "stream",
     "text": [
      "*  sqlite://\n",
      "Done.\n"
     ]
    },
    {
     "data": {
      "text/html": [
       "<table>\n",
       "    <thead>\n",
       "        <tr>\n",
       "            <th>SUM(weight)</th>\n",
       "        </tr>\n",
       "    </thead>\n",
       "    <tbody>\n",
       "        <tr>\n",
       "            <td>4176</td>\n",
       "        </tr>\n",
       "    </tbody>\n",
       "</table>"
      ],
      "text/plain": [
       "[(4176,)]"
      ]
     },
     "execution_count": 27,
     "metadata": {},
     "output_type": "execute_result"
    }
   ],
   "source": [
    "%%sql \n",
    "SELECT SUM(weight)\n",
    "FROM absenteeism\n",
    "WHERE Month_of_absence = 4;"
   ]
  },
  {
   "attachments": {},
   "cell_type": "markdown",
   "metadata": {},
   "source": [
    "Find the average number of hours of absenteeism for each reason:\n"
   ]
  },
  {
   "cell_type": "code",
   "execution_count": 28,
   "metadata": {},
   "outputs": [
    {
     "name": "stdout",
     "output_type": "stream",
     "text": [
      "*  sqlite://\n",
      "Done.\n"
     ]
    },
    {
     "data": {
      "text/html": [
       "<table>\n",
       "    <thead>\n",
       "        <tr>\n",
       "            <th>Reason_for_absence</th>\n",
       "            <th>Average_Absenteeism</th>\n",
       "        </tr>\n",
       "    </thead>\n",
       "    <tbody>\n",
       "        <tr>\n",
       "            <td>0</td>\n",
       "            <td>0.0</td>\n",
       "        </tr>\n",
       "        <tr>\n",
       "            <td>1</td>\n",
       "            <td>11.375</td>\n",
       "        </tr>\n",
       "        <tr>\n",
       "            <td>2</td>\n",
       "            <td>24.0</td>\n",
       "        </tr>\n",
       "        <tr>\n",
       "            <td>3</td>\n",
       "            <td>8.0</td>\n",
       "        </tr>\n",
       "        <tr>\n",
       "            <td>4</td>\n",
       "            <td>4.5</td>\n",
       "        </tr>\n",
       "        <tr>\n",
       "            <td>5</td>\n",
       "            <td>6.333333333333333</td>\n",
       "        </tr>\n",
       "        <tr>\n",
       "            <td>6</td>\n",
       "            <td>21.375</td>\n",
       "        </tr>\n",
       "        <tr>\n",
       "            <td>7</td>\n",
       "            <td>10.0</td>\n",
       "        </tr>\n",
       "        <tr>\n",
       "            <td>8</td>\n",
       "            <td>5.333333333333333</td>\n",
       "        </tr>\n",
       "        <tr>\n",
       "            <td>9</td>\n",
       "            <td>42.0</td>\n",
       "        </tr>\n",
       "        <tr>\n",
       "            <td>10</td>\n",
       "            <td>11.04</td>\n",
       "        </tr>\n",
       "        <tr>\n",
       "            <td>11</td>\n",
       "            <td>11.423076923076923</td>\n",
       "        </tr>\n",
       "        <tr>\n",
       "            <td>12</td>\n",
       "            <td>23.375</td>\n",
       "        </tr>\n",
       "        <tr>\n",
       "            <td>13</td>\n",
       "            <td>15.309090909090909</td>\n",
       "        </tr>\n",
       "        <tr>\n",
       "            <td>14</td>\n",
       "            <td>8.789473684210526</td>\n",
       "        </tr>\n",
       "        <tr>\n",
       "            <td>15</td>\n",
       "            <td>8.0</td>\n",
       "        </tr>\n",
       "        <tr>\n",
       "            <td>16</td>\n",
       "            <td>2.0</td>\n",
       "        </tr>\n",
       "        <tr>\n",
       "            <td>17</td>\n",
       "            <td>8.0</td>\n",
       "        </tr>\n",
       "        <tr>\n",
       "            <td>18</td>\n",
       "            <td>10.333333333333334</td>\n",
       "        </tr>\n",
       "        <tr>\n",
       "            <td>19</td>\n",
       "            <td>18.225</td>\n",
       "        </tr>\n",
       "        <tr>\n",
       "            <td>21</td>\n",
       "            <td>5.833333333333333</td>\n",
       "        </tr>\n",
       "        <tr>\n",
       "            <td>22</td>\n",
       "            <td>7.7105263157894735</td>\n",
       "        </tr>\n",
       "        <tr>\n",
       "            <td>23</td>\n",
       "            <td>2.8456375838926173</td>\n",
       "        </tr>\n",
       "        <tr>\n",
       "            <td>24</td>\n",
       "            <td>8.0</td>\n",
       "        </tr>\n",
       "        <tr>\n",
       "            <td>25</td>\n",
       "            <td>3.4838709677419355</td>\n",
       "        </tr>\n",
       "        <tr>\n",
       "            <td>26</td>\n",
       "            <td>7.2727272727272725</td>\n",
       "        </tr>\n",
       "        <tr>\n",
       "            <td>27</td>\n",
       "            <td>2.2753623188405796</td>\n",
       "        </tr>\n",
       "        <tr>\n",
       "            <td>28</td>\n",
       "            <td>2.9910714285714284</td>\n",
       "        </tr>\n",
       "    </tbody>\n",
       "</table>"
      ],
      "text/plain": [
       "[(0, 0.0),\n",
       " (1, 11.375),\n",
       " (2, 24.0),\n",
       " (3, 8.0),\n",
       " (4, 4.5),\n",
       " (5, 6.333333333333333),\n",
       " (6, 21.375),\n",
       " (7, 10.0),\n",
       " (8, 5.333333333333333),\n",
       " (9, 42.0),\n",
       " (10, 11.04),\n",
       " (11, 11.423076923076923),\n",
       " (12, 23.375),\n",
       " (13, 15.309090909090909),\n",
       " (14, 8.789473684210526),\n",
       " (15, 8.0),\n",
       " (16, 2.0),\n",
       " (17, 8.0),\n",
       " (18, 10.333333333333334),\n",
       " (19, 18.225),\n",
       " (21, 5.833333333333333),\n",
       " (22, 7.7105263157894735),\n",
       " (23, 2.8456375838926173),\n",
       " (24, 8.0),\n",
       " (25, 3.4838709677419355),\n",
       " (26, 7.2727272727272725),\n",
       " (27, 2.2753623188405796),\n",
       " (28, 2.9910714285714284)]"
      ]
     },
     "execution_count": 28,
     "metadata": {},
     "output_type": "execute_result"
    }
   ],
   "source": [
    "%%sql\n",
    "SELECT Reason_for_absence, AVG(Absenteeism_time_in_hours) AS Average_Absenteeism\n",
    "FROM absenteeism\n",
    "GROUP BY Reason_for_absence;"
   ]
  },
  {
   "attachments": {},
   "cell_type": "markdown",
   "metadata": {},
   "source": [
    "Find the total number of disciplinary failures for each season:\n"
   ]
  },
  {
   "cell_type": "code",
   "execution_count": 29,
   "metadata": {},
   "outputs": [
    {
     "name": "stdout",
     "output_type": "stream",
     "text": [
      "*  sqlite://\n",
      "Done.\n"
     ]
    },
    {
     "data": {
      "text/html": [
       "<table>\n",
       "    <thead>\n",
       "        <tr>\n",
       "            <th>Seasons</th>\n",
       "            <th>Total_Disciplinary_Failures</th>\n",
       "        </tr>\n",
       "    </thead>\n",
       "    <tbody>\n",
       "        <tr>\n",
       "            <td>1</td>\n",
       "            <td>170</td>\n",
       "        </tr>\n",
       "        <tr>\n",
       "            <td>2</td>\n",
       "            <td>192</td>\n",
       "        </tr>\n",
       "        <tr>\n",
       "            <td>3</td>\n",
       "            <td>183</td>\n",
       "        </tr>\n",
       "        <tr>\n",
       "            <td>4</td>\n",
       "            <td>195</td>\n",
       "        </tr>\n",
       "    </tbody>\n",
       "</table>"
      ],
      "text/plain": [
       "[(1, 170), (2, 192), (3, 183), (4, 195)]"
      ]
     },
     "execution_count": 29,
     "metadata": {},
     "output_type": "execute_result"
    }
   ],
   "source": [
    "%%sql\n",
    "SELECT Seasons, COUNT(Disciplinary_failure) AS Total_Disciplinary_Failures\n",
    "FROM absenteeism\n",
    "GROUP BY Seasons;"
   ]
  },
  {
   "attachments": {},
   "cell_type": "markdown",
   "metadata": {},
   "source": [
    "Find the average distance from residence to work for each category of education:"
   ]
  },
  {
   "cell_type": "code",
   "execution_count": 30,
   "metadata": {},
   "outputs": [
    {
     "name": "stdout",
     "output_type": "stream",
     "text": [
      "*  sqlite://\n",
      "Done.\n"
     ]
    },
    {
     "data": {
      "text/html": [
       "<table>\n",
       "    <thead>\n",
       "        <tr>\n",
       "            <th>Education</th>\n",
       "            <th>Average_Distance</th>\n",
       "        </tr>\n",
       "    </thead>\n",
       "    <tbody>\n",
       "        <tr>\n",
       "            <td>1</td>\n",
       "            <td>31.378068739770868</td>\n",
       "        </tr>\n",
       "        <tr>\n",
       "            <td>2</td>\n",
       "            <td>23.608695652173914</td>\n",
       "        </tr>\n",
       "        <tr>\n",
       "            <td>3</td>\n",
       "            <td>20.367088607594937</td>\n",
       "        </tr>\n",
       "        <tr>\n",
       "            <td>4</td>\n",
       "            <td>15.0</td>\n",
       "        </tr>\n",
       "    </tbody>\n",
       "</table>"
      ],
      "text/plain": [
       "[(1, 31.378068739770868),\n",
       " (2, 23.608695652173914),\n",
       " (3, 20.367088607594937),\n",
       " (4, 15.0)]"
      ]
     },
     "execution_count": 30,
     "metadata": {},
     "output_type": "execute_result"
    }
   ],
   "source": [
    "%%sql\n",
    "SELECT Education, AVG(Distance_from_Residence_to_Work) AS Average_Distance\n",
    "FROM absenteeism\n",
    "GROUP BY Education;"
   ]
  },
  {
   "attachments": {},
   "cell_type": "markdown",
   "metadata": {},
   "source": [
    "Find the top 5 employees with the highest transportation expenses:"
   ]
  },
  {
   "cell_type": "code",
   "execution_count": 31,
   "metadata": {},
   "outputs": [
    {
     "name": "stdout",
     "output_type": "stream",
     "text": [
      "*  sqlite://\n",
      "Done.\n"
     ]
    },
    {
     "data": {
      "text/html": [
       "<table>\n",
       "    <thead>\n",
       "        <tr>\n",
       "            <th>ID</th>\n",
       "            <th>Reason_for_absence</th>\n",
       "            <th>Month_of_absence</th>\n",
       "            <th>Day_of_the_week</th>\n",
       "            <th>Seasons</th>\n",
       "            <th>Transportation_expense</th>\n",
       "            <th>Distance_from_Residence_to_Work</th>\n",
       "            <th>Service_time</th>\n",
       "            <th>Age</th>\n",
       "            <th>Work_load_Average_per_day_</th>\n",
       "            <th>Hit_target</th>\n",
       "            <th>Disciplinary_failure</th>\n",
       "            <th>Education</th>\n",
       "            <th>Son</th>\n",
       "            <th>Social_drinker</th>\n",
       "            <th>Social_smoker</th>\n",
       "            <th>Pet</th>\n",
       "            <th>Weight</th>\n",
       "            <th>Height</th>\n",
       "            <th>Body_mass_index</th>\n",
       "            <th>Absenteeism_time_in_hours</th>\n",
       "        </tr>\n",
       "    </thead>\n",
       "    <tbody>\n",
       "        <tr>\n",
       "            <td>31</td>\n",
       "            <td>11</td>\n",
       "            <td>2</td>\n",
       "            <td>2</td>\n",
       "            <td>2</td>\n",
       "            <td>388</td>\n",
       "            <td>15</td>\n",
       "            <td>9</td>\n",
       "            <td>50</td>\n",
       "            <td>302.585</td>\n",
       "            <td>99</td>\n",
       "            <td>0</td>\n",
       "            <td>1</td>\n",
       "            <td>0</td>\n",
       "            <td>0</td>\n",
       "            <td>0</td>\n",
       "            <td>0</td>\n",
       "            <td>76</td>\n",
       "            <td>178</td>\n",
       "            <td>24</td>\n",
       "            <td>8</td>\n",
       "        </tr>\n",
       "        <tr>\n",
       "            <td>31</td>\n",
       "            <td>1</td>\n",
       "            <td>2</td>\n",
       "            <td>3</td>\n",
       "            <td>2</td>\n",
       "            <td>388</td>\n",
       "            <td>15</td>\n",
       "            <td>9</td>\n",
       "            <td>50</td>\n",
       "            <td>302.585</td>\n",
       "            <td>99</td>\n",
       "            <td>0</td>\n",
       "            <td>1</td>\n",
       "            <td>0</td>\n",
       "            <td>0</td>\n",
       "            <td>0</td>\n",
       "            <td>0</td>\n",
       "            <td>76</td>\n",
       "            <td>178</td>\n",
       "            <td>24</td>\n",
       "            <td>8</td>\n",
       "        </tr>\n",
       "        <tr>\n",
       "            <td>31</td>\n",
       "            <td>0</td>\n",
       "            <td>5</td>\n",
       "            <td>4</td>\n",
       "            <td>3</td>\n",
       "            <td>388</td>\n",
       "            <td>15</td>\n",
       "            <td>9</td>\n",
       "            <td>50</td>\n",
       "            <td>378.884</td>\n",
       "            <td>92</td>\n",
       "            <td>1</td>\n",
       "            <td>1</td>\n",
       "            <td>0</td>\n",
       "            <td>0</td>\n",
       "            <td>0</td>\n",
       "            <td>0</td>\n",
       "            <td>76</td>\n",
       "            <td>178</td>\n",
       "            <td>24</td>\n",
       "            <td>0</td>\n",
       "        </tr>\n",
       "        <tr>\n",
       "            <td>23</td>\n",
       "            <td>19</td>\n",
       "            <td>4</td>\n",
       "            <td>4</td>\n",
       "            <td>3</td>\n",
       "            <td>378</td>\n",
       "            <td>49</td>\n",
       "            <td>11</td>\n",
       "            <td>36</td>\n",
       "            <td>326.452</td>\n",
       "            <td>96</td>\n",
       "            <td>0</td>\n",
       "            <td>1</td>\n",
       "            <td>2</td>\n",
       "            <td>0</td>\n",
       "            <td>1</td>\n",
       "            <td>4</td>\n",
       "            <td>65</td>\n",
       "            <td>174</td>\n",
       "            <td>21</td>\n",
       "            <td>8</td>\n",
       "        </tr>\n",
       "        <tr>\n",
       "            <td>23</td>\n",
       "            <td>0</td>\n",
       "            <td>5</td>\n",
       "            <td>4</td>\n",
       "            <td>3</td>\n",
       "            <td>378</td>\n",
       "            <td>49</td>\n",
       "            <td>11</td>\n",
       "            <td>36</td>\n",
       "            <td>378.884</td>\n",
       "            <td>92</td>\n",
       "            <td>1</td>\n",
       "            <td>1</td>\n",
       "            <td>2</td>\n",
       "            <td>0</td>\n",
       "            <td>1</td>\n",
       "            <td>4</td>\n",
       "            <td>65</td>\n",
       "            <td>174</td>\n",
       "            <td>21</td>\n",
       "            <td>0</td>\n",
       "        </tr>\n",
       "    </tbody>\n",
       "</table>"
      ],
      "text/plain": [
       "[(31, 11, 2, 2, 2, 388, 15, 9, 50, 302.585, 99, 0, 1, 0, 0, 0, 0, 76, 178, 24, 8),\n",
       " (31, 1, 2, 3, 2, 388, 15, 9, 50, 302.585, 99, 0, 1, 0, 0, 0, 0, 76, 178, 24, 8),\n",
       " (31, 0, 5, 4, 3, 388, 15, 9, 50, 378.884, 92, 1, 1, 0, 0, 0, 0, 76, 178, 24, 0),\n",
       " (23, 19, 4, 4, 3, 378, 49, 11, 36, 326.452, 96, 0, 1, 2, 0, 1, 4, 65, 174, 21, 8),\n",
       " (23, 0, 5, 4, 3, 378, 49, 11, 36, 378.884, 92, 1, 1, 2, 0, 1, 4, 65, 174, 21, 0)]"
      ]
     },
     "execution_count": 31,
     "metadata": {},
     "output_type": "execute_result"
    }
   ],
   "source": [
    "%%sql\n",
    "SELECT *\n",
    "FROM absenteeism\n",
    "ORDER BY Transportation_expense DESC\n",
    "LIMIT 5;"
   ]
  },
  {
   "attachments": {},
   "cell_type": "markdown",
   "metadata": {},
   "source": [
    "### Custom queries defined by the user"
   ]
  },
  {
   "cell_type": "code",
   "execution_count": 33,
   "metadata": {},
   "outputs": [
    {
     "data": {
      "text/markdown": [
       "SELECT Day_of_the_week, COUNT(*) as Absenteeism_count \n",
       "FROM absenteeism \n",
       "GROUP BY Day_of_the_week \n",
       "ORDER BY Absenteeism_count DESC \n",
       "LIMIT 1; \n",
       "\n",
       "This SQL query selects the Day_of_the_week column and counts the number of absenteeism entries associated with each day. It then groups them by day of the week, orders them by the absenteeism count in descending order, and limits the output to only show the day with the highest absenteeism count."
      ],
      "text/plain": [
       "<IPython.core.display.Markdown object>"
      ]
     },
     "metadata": {},
     "output_type": "display_data"
    }
   ],
   "source": [
    "data_query = \"What day of the week has the most absenteeism?\"\n",
    "\n",
    "datagen_prompts_2 = [\n",
    "    {\"role\" : \"system\", \"content\" : \"You are a data analyst specializing in SQL, you are presented with a natural language query, and you form queries to answer questions about the data.\"},\n",
    "    {\"role\" : \"user\", \"content\" : f\"Please generate 1 SQL queries for data with columns {', '.join(df.columns)}. The table is called 'absenteeism'. Use the natural language query {data_query}\"},\n",
    "]\n",
    "\n",
    "prompter.prompt_model_print(datagen_prompts_2)"
   ]
  },
  {
   "cell_type": "code",
   "execution_count": 34,
   "metadata": {},
   "outputs": [
    {
     "name": "stdout",
     "output_type": "stream",
     "text": [
      "*  sqlite://\n",
      "Done.\n"
     ]
    },
    {
     "data": {
      "text/html": [
       "<table>\n",
       "    <thead>\n",
       "        <tr>\n",
       "            <th>Day_of_the_week</th>\n",
       "            <th>Absenteeism_count</th>\n",
       "        </tr>\n",
       "    </thead>\n",
       "    <tbody>\n",
       "        <tr>\n",
       "            <td>2</td>\n",
       "            <td>161</td>\n",
       "        </tr>\n",
       "    </tbody>\n",
       "</table>"
      ],
      "text/plain": [
       "[(2, 161)]"
      ]
     },
     "execution_count": 34,
     "metadata": {},
     "output_type": "execute_result"
    }
   ],
   "source": [
    "%%sql \n",
    "SELECT Day_of_the_week, COUNT(*) as Absenteeism_count \n",
    "FROM absenteeism \n",
    "GROUP BY Day_of_the_week \n",
    "ORDER BY Absenteeism_count DESC \n",
    "LIMIT 1;"
   ]
  },
  {
   "cell_type": "code",
   "execution_count": null,
   "metadata": {},
   "outputs": [],
   "source": []
  }
 ],
 "metadata": {
  "kernelspec": {
   "display_name": "Python 3 (ipykernel)",
   "language": "python",
   "name": "python3"
  },
  "language_info": {
   "codemirror_mode": {
    "name": "ipython",
    "version": 3
   },
   "file_extension": ".py",
   "mimetype": "text/x-python",
   "name": "python",
   "nbconvert_exporter": "python",
   "pygments_lexer": "ipython3",
   "version": "3.10.10"
  },
  "vscode": {
   "interpreter": {
    "hash": "b63706df7a090dbb2211e722a69bab5d9c4c3a5fccbde02d9c225a75629dd7db"
   }
  }
 },
 "nbformat": 4,
 "nbformat_minor": 2
}
