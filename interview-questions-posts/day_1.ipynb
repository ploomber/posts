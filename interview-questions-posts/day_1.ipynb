{
 "cells": [
  {
   "attachments": {},
   "cell_type": "markdown",
   "metadata": {},
   "source": [
    "# Dataset: Absenteeism at work\n",
    "\n",
    "Source: UCI Machine Learning Repository \n",
    "\n",
    "URL: https://archive.ics.uci.edu/ml/datasets/Absenteeism+at+work\n",
    "\n",
    "### Dataset description \n",
    "\n",
    "The data set allows for several new combinations of attributes and attribute exclusions, or the modification of the attribute type (categorical, integer, or real) depending on the purpose of the research.The data set (Absenteeism at work - Part I) was used in academic research at the Universidade Nove de Julho - Postgraduate Program in Informatics and Knowledge Management.\n",
    "\n",
    "\n",
    "### Categorical data information \n",
    "\n",
    "The data contains the following categories without (CID) patient follow-up (22), medical consultation (23), blood donation (24), laboratory examination (25), unjustified absence (26), physiotherapy (27), dental consultation (28).\n",
    "\n",
    "1. Individual identification (ID)\n",
    "2. Reason for absence (ICD).\n",
    "3. Month of absence\n",
    "4. Day of the week (Monday (2), Tuesday (3), Wednesday (4), Thursday (5), Friday (6))\n",
    "5. Seasons (summer (1), autumn (2), winter (3), spring (4))\n",
    "6. Transportation expense\n",
    "7. Distance from Residence to Work (kilometers)\n",
    "8. Service time\n",
    "9. Age\n",
    "10. Work load Average/day\n",
    "11. Hit target\n",
    "12. Disciplinary failure (yes=1; no=0)\n",
    "13. Education (high school (1), graduate (2), postgraduate (3), master and doctor (4))\n",
    "14. Son (number of children)\n",
    "15. Social drinker (yes=1; no=0)\n",
    "16. Social smoker (yes=1; no=0)\n",
    "17. Pet (number of pet)\n",
    "18. Weight\n",
    "19. Height\n",
    "20. Body mass index\n",
    "21. Absenteeism time in hours (target)\n"
   ]
  },
  {
   "attachments": {},
   "cell_type": "markdown",
   "metadata": {},
   "source": [
    "## 5 minute crash course into JupySQL\n",
    "\n",
    "Play the following video to get familiar with JupySQL to execute queries on Jupyter using DuckDB.\n",
    "\n",
    "<b>If you get stuck, join our Slack community!</b> https://ploomber.io/community\n",
    "\n",
    "\n",
    "[![IMAGE ALT TEXT HERE](https://img.youtube.com/vi/CsWEUYLaYU0/0.jpg)](https://www.youtube.com/watch?v=CsWEUYLaYU0)\n"
   ]
  },
  {
   "attachments": {},
   "cell_type": "markdown",
   "metadata": {},
   "source": [
    "#### Install - execute this once. Can be commented out afterwards if running from Syzygy or locally. "
   ]
  },
  {
   "cell_type": "code",
   "execution_count": null,
   "metadata": {},
   "outputs": [],
   "source": [
    "try:\n",
    "    %pip install jupysql duckdb-engine pandas --quiet\n",
    "    print(\"Success\")\n",
    "except:\n",
    "    print(\"retry installing\")"
   ]
  },
  {
   "attachments": {},
   "cell_type": "markdown",
   "metadata": {},
   "source": [
    "#### Load the data"
   ]
  },
  {
   "cell_type": "code",
   "execution_count": 1,
   "metadata": {},
   "outputs": [],
   "source": [
    "from urllib.request import urlretrieve\n",
    "from zipfile import ZipFile\n",
    "import pandas as pd\n",
    "\n",
    "url = \"https://archive.ics.uci.edu/ml/machine-learning-databases/00445/Absenteeism_at_work_AAA.zip\"\n",
    "\n",
    "# download the file\n",
    "urlretrieve(url, \"Absenteeism_at_work_AAA.zip\")\n",
    "\n",
    "# Extract the CSV file\n",
    "with ZipFile(\"Absenteeism_at_work_AAA.zip\", 'r') as zf:\n",
    "    zf.extractall()\n",
    "\n",
    "# Check the extracted CSV file name (in this case, it's \"Absenteeism_at_work.csv\")\n",
    "csv_file_name = \"Absenteeism_at_work.csv\"\n",
    "\n",
    "# Data clean up\n",
    "df = pd.read_csv(csv_file_name, sep=\",\")\n",
    "df.columns = df.columns.str.replace(' ', '_')\n",
    "\n",
    "# Save the cleaned up CSV file\n",
    "df.to_csv(\"Absenteeism_at_work_cleaned.csv\", index=False)"
   ]
  },
  {
   "attachments": {},
   "cell_type": "markdown",
   "metadata": {},
   "source": [
    "#### Load Engine\n",
    "\n",
    "<b>Note</b> Ensure you restart any previous notebook that has the same database name as the one initialized below."
   ]
  },
  {
   "cell_type": "code",
   "execution_count": 2,
   "metadata": {},
   "outputs": [],
   "source": [
    "%reload_ext sql\n",
    "%sql duckdb:///absenteeism.duck.db"
   ]
  },
  {
   "cell_type": "code",
   "execution_count": 3,
   "metadata": {},
   "outputs": [
    {
     "name": "stdout",
     "output_type": "stream",
     "text": [
      "*  duckdb:///absenteeism.duck.db\n",
      "Done.\n"
     ]
    },
    {
     "data": {
      "text/html": [
       "<table>\n",
       "    <thead>\n",
       "        <tr>\n",
       "            <th>Count</th>\n",
       "        </tr>\n",
       "    </thead>\n",
       "    <tbody>\n",
       "        <tr>\n",
       "            <td>740</td>\n",
       "        </tr>\n",
       "    </tbody>\n",
       "</table>"
      ],
      "text/plain": [
       "[(740,)]"
      ]
     },
     "execution_count": 3,
     "metadata": {},
     "output_type": "execute_result"
    }
   ],
   "source": [
    "%%sql\n",
    "create or replace table absenteeism as\n",
    "from read_csv_auto('Absenteeism_at_work_cleaned.csv', header=True, sep=';')"
   ]
  },
  {
   "cell_type": "code",
   "execution_count": 4,
   "metadata": {},
   "outputs": [
    {
     "name": "stdout",
     "output_type": "stream",
     "text": [
      "*  duckdb:///absenteeism.duck.db\n",
      "Done.\n"
     ]
    },
    {
     "data": {
      "text/html": [
       "<table>\n",
       "    <thead>\n",
       "        <tr>\n",
       "            <th>count_star()</th>\n",
       "        </tr>\n",
       "    </thead>\n",
       "    <tbody>\n",
       "        <tr>\n",
       "            <td>740</td>\n",
       "        </tr>\n",
       "    </tbody>\n",
       "</table>"
      ],
      "text/plain": [
       "[(740,)]"
      ]
     },
     "execution_count": 4,
     "metadata": {},
     "output_type": "execute_result"
    }
   ],
   "source": [
    "%%sql\n",
    "SELECT count(*) FROM absenteeism"
   ]
  },
  {
   "attachments": {},
   "cell_type": "markdown",
   "metadata": {},
   "source": [
    "#### Use JupySQL to perform the queries and answer the questions.\n",
    "\n",
    "Example: show the first 5 rows."
   ]
  },
  {
   "cell_type": "code",
   "execution_count": 5,
   "metadata": {},
   "outputs": [
    {
     "name": "stdout",
     "output_type": "stream",
     "text": [
      "*  duckdb:///absenteeism.duck.db\n",
      "Done.\n"
     ]
    },
    {
     "data": {
      "text/html": [
       "<table>\n",
       "    <thead>\n",
       "        <tr>\n",
       "            <th>ID</th>\n",
       "            <th>Reason_for_absence</th>\n",
       "            <th>Month_of_absence</th>\n",
       "            <th>Day_of_the_week</th>\n",
       "            <th>Seasons</th>\n",
       "            <th>Transportation_expense</th>\n",
       "            <th>Distance_from_Residence_to_Work</th>\n",
       "            <th>Service_time</th>\n",
       "            <th>Age</th>\n",
       "            <th>Work_load_Average/day_</th>\n",
       "            <th>Hit_target</th>\n",
       "            <th>Disciplinary_failure</th>\n",
       "            <th>Education</th>\n",
       "            <th>Son</th>\n",
       "            <th>Social_drinker</th>\n",
       "            <th>Social_smoker</th>\n",
       "            <th>Pet</th>\n",
       "            <th>Weight</th>\n",
       "            <th>Height</th>\n",
       "            <th>Body_mass_index</th>\n",
       "            <th>Absenteeism_time_in_hours</th>\n",
       "        </tr>\n",
       "    </thead>\n",
       "    <tbody>\n",
       "        <tr>\n",
       "            <td>11</td>\n",
       "            <td>26</td>\n",
       "            <td>7</td>\n",
       "            <td>3</td>\n",
       "            <td>1</td>\n",
       "            <td>289</td>\n",
       "            <td>36</td>\n",
       "            <td>13</td>\n",
       "            <td>33</td>\n",
       "            <td>239.554</td>\n",
       "            <td>97</td>\n",
       "            <td>0</td>\n",
       "            <td>1</td>\n",
       "            <td>2</td>\n",
       "            <td>1</td>\n",
       "            <td>0</td>\n",
       "            <td>1</td>\n",
       "            <td>90</td>\n",
       "            <td>172</td>\n",
       "            <td>30</td>\n",
       "            <td>4</td>\n",
       "        </tr>\n",
       "        <tr>\n",
       "            <td>36</td>\n",
       "            <td>0</td>\n",
       "            <td>7</td>\n",
       "            <td>3</td>\n",
       "            <td>1</td>\n",
       "            <td>118</td>\n",
       "            <td>13</td>\n",
       "            <td>18</td>\n",
       "            <td>50</td>\n",
       "            <td>239.554</td>\n",
       "            <td>97</td>\n",
       "            <td>1</td>\n",
       "            <td>1</td>\n",
       "            <td>1</td>\n",
       "            <td>1</td>\n",
       "            <td>0</td>\n",
       "            <td>0</td>\n",
       "            <td>98</td>\n",
       "            <td>178</td>\n",
       "            <td>31</td>\n",
       "            <td>0</td>\n",
       "        </tr>\n",
       "        <tr>\n",
       "            <td>3</td>\n",
       "            <td>23</td>\n",
       "            <td>7</td>\n",
       "            <td>4</td>\n",
       "            <td>1</td>\n",
       "            <td>179</td>\n",
       "            <td>51</td>\n",
       "            <td>18</td>\n",
       "            <td>38</td>\n",
       "            <td>239.554</td>\n",
       "            <td>97</td>\n",
       "            <td>0</td>\n",
       "            <td>1</td>\n",
       "            <td>0</td>\n",
       "            <td>1</td>\n",
       "            <td>0</td>\n",
       "            <td>0</td>\n",
       "            <td>89</td>\n",
       "            <td>170</td>\n",
       "            <td>31</td>\n",
       "            <td>2</td>\n",
       "        </tr>\n",
       "        <tr>\n",
       "            <td>7</td>\n",
       "            <td>7</td>\n",
       "            <td>7</td>\n",
       "            <td>5</td>\n",
       "            <td>1</td>\n",
       "            <td>279</td>\n",
       "            <td>5</td>\n",
       "            <td>14</td>\n",
       "            <td>39</td>\n",
       "            <td>239.554</td>\n",
       "            <td>97</td>\n",
       "            <td>0</td>\n",
       "            <td>1</td>\n",
       "            <td>2</td>\n",
       "            <td>1</td>\n",
       "            <td>1</td>\n",
       "            <td>0</td>\n",
       "            <td>68</td>\n",
       "            <td>168</td>\n",
       "            <td>24</td>\n",
       "            <td>4</td>\n",
       "        </tr>\n",
       "        <tr>\n",
       "            <td>11</td>\n",
       "            <td>23</td>\n",
       "            <td>7</td>\n",
       "            <td>5</td>\n",
       "            <td>1</td>\n",
       "            <td>289</td>\n",
       "            <td>36</td>\n",
       "            <td>13</td>\n",
       "            <td>33</td>\n",
       "            <td>239.554</td>\n",
       "            <td>97</td>\n",
       "            <td>0</td>\n",
       "            <td>1</td>\n",
       "            <td>2</td>\n",
       "            <td>1</td>\n",
       "            <td>0</td>\n",
       "            <td>1</td>\n",
       "            <td>90</td>\n",
       "            <td>172</td>\n",
       "            <td>30</td>\n",
       "            <td>2</td>\n",
       "        </tr>\n",
       "    </tbody>\n",
       "</table>"
      ],
      "text/plain": [
       "[(11, 26, 7, 3, 1, 289, 36, 13, 33, 239.554, 97, 0, 1, 2, 1, 0, 1, 90, 172, 30, 4),\n",
       " (36, 0, 7, 3, 1, 118, 13, 18, 50, 239.554, 97, 1, 1, 1, 1, 0, 0, 98, 178, 31, 0),\n",
       " (3, 23, 7, 4, 1, 179, 51, 18, 38, 239.554, 97, 0, 1, 0, 1, 0, 0, 89, 170, 31, 2),\n",
       " (7, 7, 7, 5, 1, 279, 5, 14, 39, 239.554, 97, 0, 1, 2, 1, 1, 0, 68, 168, 24, 4),\n",
       " (11, 23, 7, 5, 1, 289, 36, 13, 33, 239.554, 97, 0, 1, 2, 1, 0, 1, 90, 172, 30, 2)]"
      ]
     },
     "execution_count": 5,
     "metadata": {},
     "output_type": "execute_result"
    }
   ],
   "source": [
    "%%sql \n",
    "SELECT *\n",
    "FROM absenteeism \n",
    "LIMIT 5"
   ]
  },
  {
   "attachments": {},
   "cell_type": "markdown",
   "metadata": {},
   "source": [
    "#### Question 1 (Easy):\n",
    "How many records are there in the 'absenteeism' table? \n",
    "\n",
    "Enter your answer in the cell below."
   ]
  },
  {
   "cell_type": "code",
   "execution_count": null,
   "metadata": {},
   "outputs": [],
   "source": [
    "%%sql"
   ]
  },
  {
   "attachments": {},
   "cell_type": "markdown",
   "metadata": {},
   "source": [
    "<details>\n",
    "\n",
    "<summary>Answers</summary>\n",
    "\n",
    "You can use the `%%sql` magic and the `COUNT(*)` function to count the total number of records. \n",
    "\n",
    "```python\n",
    "%%sql\n",
    "SELECT COUNT(*) \n",
    "FROM absenteeism\n",
    "```\n",
    "</details>"
   ]
  },
  {
   "attachments": {},
   "cell_type": "markdown",
   "metadata": {},
   "source": [
    "#### Question 2 (Medium):\n",
    "On which days of the week does the average absenteeism time exceed 4 hours? \n",
    "\n",
    "Enter your answer in the cell below."
   ]
  },
  {
   "cell_type": "code",
   "execution_count": null,
   "metadata": {},
   "outputs": [],
   "source": [
    "%%sql"
   ]
  },
  {
   "attachments": {},
   "cell_type": "markdown",
   "metadata": {},
   "source": [
    "<details>\n",
    "\n",
    "<summary>Answers</summary>\n",
    "\n",
    "You can use the `%%sql` magic and break down the query as follows:\n",
    "\n",
    "1. Select the column with name `Day_of_the_week`\n",
    "2. From the table called `absenteeism`\n",
    "3. Then group the values by day of the week that have an average value (use `AVG`) of more than 4 hours in absenteeism. \n",
    "\n",
    "```python\n",
    "%%sql\n",
    "SELECT Day_of_the_week \n",
    "FROM absenteeism \n",
    "GROUP BY Day_of_the_week \n",
    "HAVING AVG(Absenteeism_time_in_hours) > 4;\n",
    "```\n",
    "</details>"
   ]
  },
  {
   "attachments": {},
   "cell_type": "markdown",
   "metadata": {},
   "source": [
    "#### Question 3 (Hard):\n",
    "Find the top 3 ages with the highest total absenteeism hours, excluding disciplinary failures.\n",
    "\n",
    "Enter your answer in the cell below."
   ]
  },
  {
   "cell_type": "code",
   "execution_count": null,
   "metadata": {},
   "outputs": [],
   "source": [
    "%%sql"
   ]
  },
  {
   "attachments": {},
   "cell_type": "markdown",
   "metadata": {},
   "source": [
    "\n",
    "\n",
    "<details>\n",
    "\n",
    "<summary>Answers</summary>\n",
    "\n",
    "You can use the `%%sql` magic and break down the query as follows:\n",
    "\n",
    "1. Select the column with name `Age`, compute the Sum of `Absenteeism_time_in_hours`. Give this sum an alias `Sum_Absenteeism`.\n",
    "2. From the table called `absenteeism`\n",
    "3. The keywork WHERE is used to filter the data that meets a specific condition, in this case `Disciplinary_failure` is equal to zero.\n",
    "4. Group values by the `Age` column.\n",
    "5. Sort the values by the sum and show the first 3 values.\n",
    "\n",
    "```python\n",
    "%%sql\n",
    "SELECT Age, SUM(Absenteeism_time_in_hours) AS Sum_Absenteeism\n",
    "FROM absenteeism \n",
    "WHERE Disciplinary_failure = 0 \n",
    "GROUP BY Age \n",
    "ORDER BY Sum_Absenteeism\n",
    "DESC LIMIT 3;\n",
    "```\n",
    "</details>"
   ]
  },
  {
   "attachments": {},
   "cell_type": "markdown",
   "metadata": {},
   "source": [
    "### Bonus: Save the tables you created using the `--save` option, use the saved tables to generate visualizations.\n",
    "\n",
    "Here are a few tutorials to get you started:\n",
    "\n",
    "Parameterizing SQL queries: https://jupysql.ploomber.io/en/latest/user-guide/template.html\n",
    "\n",
    "SQL Plot: https://jupysql.ploomber.io/en/latest/api/magic-plot.html\n",
    "\n",
    "Organizing Large queries: https://jupysql.ploomber.io/en/latest/compose.html\n",
    "\n",
    "Plotting with ggplot: https://jupysql.ploomber.io/en/latest/user-guide/ggplot.html\n",
    "\n",
    "Turning your notebook into a Voila dashboard: https://ploomber.io/blog/voila-tutorial/\n"
   ]
  },
  {
   "cell_type": "code",
   "execution_count": null,
   "metadata": {},
   "outputs": [],
   "source": []
  },
  {
   "cell_type": "code",
   "execution_count": null,
   "metadata": {},
   "outputs": [],
   "source": []
  },
  {
   "cell_type": "code",
   "execution_count": null,
   "metadata": {},
   "outputs": [],
   "source": []
  },
  {
   "attachments": {},
   "cell_type": "markdown",
   "metadata": {},
   "source": [
    "<h2 align='center'>Congratulations! You can share this notebook with your network, or add it as part of your portfolio.</h2>"
   ]
  },
  {
   "attachments": {},
   "cell_type": "markdown",
   "metadata": {},
   "source": [
    "### References   \n",
    "\n",
    "Martiniano, A., Ferreira, R. P., Sassi, R. J., & Affonso, C. (2012). Application of a neuro fuzzy network in prediction of absenteeism at work. In Information Systems and Technologies (CISTI), 7th Iberian Conference on (pp. 1-4). IEEE.\n",
    "\n",
    "### Acknowledgements\n",
    "\n",
    "Thank you Mark Needham for producing the 5 minute crash course on using JupySQL."
   ]
  },
  {
   "cell_type": "markdown",
   "metadata": {},
   "source": []
  }
 ],
 "metadata": {
  "kernelspec": {
   "display_name": "jupyblog",
   "language": "python",
   "name": "python3"
  },
  "language_info": {
   "codemirror_mode": {
    "name": "ipython",
    "version": 3
   },
   "file_extension": ".py",
   "mimetype": "text/x-python",
   "name": "python",
   "nbconvert_exporter": "python",
   "pygments_lexer": "ipython3",
   "version": "3.10.10"
  },
  "orig_nbformat": 4
 },
 "nbformat": 4,
 "nbformat_minor": 2
}
