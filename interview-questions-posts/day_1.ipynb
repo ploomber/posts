{
 "cells": [
  {
   "attachments": {},
   "cell_type": "markdown",
   "metadata": {},
   "source": [
    "# Dataset: Absenteeism at work\n",
    "\n",
    "Source: UCI Machine Learning Repository \n",
    "\n",
    "URL: https://archive.ics.uci.edu/ml/datasets/Absenteeism+at+work\n",
    "\n",
    "### Dataset description \n",
    "\n",
    "The data set allows for several new combinations of attributes and attribute exclusions, or the modification of the attribute type (categorical, integer, or real) depending on the purpose of the research.The data set (Absenteeism at work - Part I) was used in academic research at the Universidade Nove de Julho - Postgraduate Program in Informatics and Knowledge Management.\n",
    "\n",
    "\n",
    "### Categorical data information \n",
    "\n",
    "The data contains the following categories without (CID) patient follow-up (22), medical consultation (23), blood donation (24), laboratory examination (25), unjustified absence (26), physiotherapy (27), dental consultation (28).\n",
    "\n",
    "1. Individual identification (ID)\n",
    "2. Reason for absence (ICD).\n",
    "3. Month of absence\n",
    "4. Day of the week (Monday (2), Tuesday (3), Wednesday (4), Thursday (5), Friday (6))\n",
    "5. Seasons (summer (1), autumn (2), winter (3), spring (4))\n",
    "6. Transportation expense\n",
    "7. Distance from Residence to Work (kilometers)\n",
    "8. Service time\n",
    "9. Age\n",
    "10. Work load Average/day\n",
    "11. Hit target\n",
    "12. Disciplinary failure (yes=1; no=0)\n",
    "13. Education (high school (1), graduate (2), postgraduate (3), master and doctor (4))\n",
    "14. Son (number of children)\n",
    "15. Social drinker (yes=1; no=0)\n",
    "16. Social smoker (yes=1; no=0)\n",
    "17. Pet (number of pet)\n",
    "18. Weight\n",
    "19. Height\n",
    "20. Body mass index\n",
    "21. Absenteeism time in hours (target)\n"
   ]
  },
  {
   "attachments": {},
   "cell_type": "markdown",
   "metadata": {},
   "source": [
    "#### Load the data"
   ]
  },
  {
   "cell_type": "code",
   "execution_count": 1,
   "metadata": {},
   "outputs": [],
   "source": [
    "import requests\n",
    "import zipfile\n",
    "import io\n",
    "import pandas as pd\n",
    "from sqlalchemy.engine import create_engine\n",
    "\n",
    "url = \"https://archive.ics.uci.edu/ml/machine-learning-databases/00445/Absenteeism_at_work_AAA.zip\"\n",
    "\n",
    "# download the ZIP file\n",
    "response = requests.get(url)\n",
    "\n",
    "# extract the contents of the ZIP file\n",
    "zf = zipfile.ZipFile(io.BytesIO(response.content))\n",
    "df = pd.read_csv(zf.open(\"Absenteeism_at_work.csv\"), sep=\";\", index_col=0)\n",
    "\n",
    "# Replace spaces with underscores in the column names\n",
    "df.columns = [c.replace(\" \", \"_\").replace(\"/\",\"_per_\") for c in df.columns]"
   ]
  },
  {
   "attachments": {},
   "cell_type": "markdown",
   "metadata": {},
   "source": [
    "#### Store the data into a SQLite instance"
   ]
  },
  {
   "cell_type": "code",
   "execution_count": 2,
   "metadata": {},
   "outputs": [
    {
     "data": {
      "text/plain": [
       "740"
      ]
     },
     "execution_count": 2,
     "metadata": {},
     "output_type": "execute_result"
    }
   ],
   "source": [
    "engine = create_engine(\"sqlite://\")\n",
    "\n",
    "df.to_sql(\"absenteeism\", engine)"
   ]
  },
  {
   "attachments": {},
   "cell_type": "markdown",
   "metadata": {},
   "source": [
    "#### Load Engine"
   ]
  },
  {
   "cell_type": "code",
   "execution_count": 3,
   "metadata": {},
   "outputs": [],
   "source": [
    "%load_ext sql\n",
    "%sql engine"
   ]
  },
  {
   "attachments": {},
   "cell_type": "markdown",
   "metadata": {},
   "source": [
    "#### Use JupySQL to perform the queries and answer the questions."
   ]
  },
  {
   "cell_type": "code",
   "execution_count": 4,
   "metadata": {},
   "outputs": [
    {
     "name": "stdout",
     "output_type": "stream",
     "text": [
      "*  sqlite://\n",
      "Done.\n"
     ]
    },
    {
     "data": {
      "text/html": [
       "<table>\n",
       "    <thead>\n",
       "        <tr>\n",
       "            <th>ID</th>\n",
       "            <th>Reason_for_absence</th>\n",
       "            <th>Month_of_absence</th>\n",
       "            <th>Day_of_the_week</th>\n",
       "            <th>Seasons</th>\n",
       "            <th>Transportation_expense</th>\n",
       "            <th>Distance_from_Residence_to_Work</th>\n",
       "            <th>Service_time</th>\n",
       "            <th>Age</th>\n",
       "            <th>Work_load_Average_per_day_</th>\n",
       "            <th>Hit_target</th>\n",
       "            <th>Disciplinary_failure</th>\n",
       "            <th>Education</th>\n",
       "            <th>Son</th>\n",
       "            <th>Social_drinker</th>\n",
       "            <th>Social_smoker</th>\n",
       "            <th>Pet</th>\n",
       "            <th>Weight</th>\n",
       "            <th>Height</th>\n",
       "            <th>Body_mass_index</th>\n",
       "            <th>Absenteeism_time_in_hours</th>\n",
       "        </tr>\n",
       "    </thead>\n",
       "    <tbody>\n",
       "        <tr>\n",
       "            <td>11</td>\n",
       "            <td>26</td>\n",
       "            <td>7</td>\n",
       "            <td>3</td>\n",
       "            <td>1</td>\n",
       "            <td>289</td>\n",
       "            <td>36</td>\n",
       "            <td>13</td>\n",
       "            <td>33</td>\n",
       "            <td>239.554</td>\n",
       "            <td>97</td>\n",
       "            <td>0</td>\n",
       "            <td>1</td>\n",
       "            <td>2</td>\n",
       "            <td>1</td>\n",
       "            <td>0</td>\n",
       "            <td>1</td>\n",
       "            <td>90</td>\n",
       "            <td>172</td>\n",
       "            <td>30</td>\n",
       "            <td>4</td>\n",
       "        </tr>\n",
       "        <tr>\n",
       "            <td>36</td>\n",
       "            <td>0</td>\n",
       "            <td>7</td>\n",
       "            <td>3</td>\n",
       "            <td>1</td>\n",
       "            <td>118</td>\n",
       "            <td>13</td>\n",
       "            <td>18</td>\n",
       "            <td>50</td>\n",
       "            <td>239.554</td>\n",
       "            <td>97</td>\n",
       "            <td>1</td>\n",
       "            <td>1</td>\n",
       "            <td>1</td>\n",
       "            <td>1</td>\n",
       "            <td>0</td>\n",
       "            <td>0</td>\n",
       "            <td>98</td>\n",
       "            <td>178</td>\n",
       "            <td>31</td>\n",
       "            <td>0</td>\n",
       "        </tr>\n",
       "        <tr>\n",
       "            <td>3</td>\n",
       "            <td>23</td>\n",
       "            <td>7</td>\n",
       "            <td>4</td>\n",
       "            <td>1</td>\n",
       "            <td>179</td>\n",
       "            <td>51</td>\n",
       "            <td>18</td>\n",
       "            <td>38</td>\n",
       "            <td>239.554</td>\n",
       "            <td>97</td>\n",
       "            <td>0</td>\n",
       "            <td>1</td>\n",
       "            <td>0</td>\n",
       "            <td>1</td>\n",
       "            <td>0</td>\n",
       "            <td>0</td>\n",
       "            <td>89</td>\n",
       "            <td>170</td>\n",
       "            <td>31</td>\n",
       "            <td>2</td>\n",
       "        </tr>\n",
       "        <tr>\n",
       "            <td>7</td>\n",
       "            <td>7</td>\n",
       "            <td>7</td>\n",
       "            <td>5</td>\n",
       "            <td>1</td>\n",
       "            <td>279</td>\n",
       "            <td>5</td>\n",
       "            <td>14</td>\n",
       "            <td>39</td>\n",
       "            <td>239.554</td>\n",
       "            <td>97</td>\n",
       "            <td>0</td>\n",
       "            <td>1</td>\n",
       "            <td>2</td>\n",
       "            <td>1</td>\n",
       "            <td>1</td>\n",
       "            <td>0</td>\n",
       "            <td>68</td>\n",
       "            <td>168</td>\n",
       "            <td>24</td>\n",
       "            <td>4</td>\n",
       "        </tr>\n",
       "        <tr>\n",
       "            <td>11</td>\n",
       "            <td>23</td>\n",
       "            <td>7</td>\n",
       "            <td>5</td>\n",
       "            <td>1</td>\n",
       "            <td>289</td>\n",
       "            <td>36</td>\n",
       "            <td>13</td>\n",
       "            <td>33</td>\n",
       "            <td>239.554</td>\n",
       "            <td>97</td>\n",
       "            <td>0</td>\n",
       "            <td>1</td>\n",
       "            <td>2</td>\n",
       "            <td>1</td>\n",
       "            <td>0</td>\n",
       "            <td>1</td>\n",
       "            <td>90</td>\n",
       "            <td>172</td>\n",
       "            <td>30</td>\n",
       "            <td>2</td>\n",
       "        </tr>\n",
       "    </tbody>\n",
       "</table>"
      ],
      "text/plain": [
       "[(11, 26, 7, 3, 1, 289, 36, 13, 33, 239.554, 97, 0, 1, 2, 1, 0, 1, 90, 172, 30, 4),\n",
       " (36, 0, 7, 3, 1, 118, 13, 18, 50, 239.554, 97, 1, 1, 1, 1, 0, 0, 98, 178, 31, 0),\n",
       " (3, 23, 7, 4, 1, 179, 51, 18, 38, 239.554, 97, 0, 1, 0, 1, 0, 0, 89, 170, 31, 2),\n",
       " (7, 7, 7, 5, 1, 279, 5, 14, 39, 239.554, 97, 0, 1, 2, 1, 1, 0, 68, 168, 24, 4),\n",
       " (11, 23, 7, 5, 1, 289, 36, 13, 33, 239.554, 97, 0, 1, 2, 1, 0, 1, 90, 172, 30, 2)]"
      ]
     },
     "execution_count": 4,
     "metadata": {},
     "output_type": "execute_result"
    }
   ],
   "source": [
    "%%sql \n",
    "SELECT *\n",
    "FROM absenteeism \n",
    "LIMIT 5"
   ]
  },
  {
   "attachments": {},
   "cell_type": "markdown",
   "metadata": {},
   "source": [
    "#### Question 1 (Easy):\n",
    "How many records are there in the 'absenteeism' table? "
   ]
  },
  {
   "cell_type": "code",
   "execution_count": 8,
   "metadata": {},
   "outputs": [
    {
     "name": "stderr",
     "output_type": "stream",
     "text": [
      "UsageError: Line magic function `%%sql` not found.\n"
     ]
    }
   ],
   "source": [
    "# your answer here\n",
    "%%sql"
   ]
  },
  {
   "attachments": {},
   "cell_type": "markdown",
   "metadata": {},
   "source": [
    "#### Question 2 (Medium):\n",
    "On which days of the week does the average absenteeism time exceed 4 hours? \n"
   ]
  },
  {
   "cell_type": "code",
   "execution_count": null,
   "metadata": {},
   "outputs": [],
   "source": [
    "# your answer here\n",
    "%%sql"
   ]
  },
  {
   "attachments": {},
   "cell_type": "markdown",
   "metadata": {},
   "source": [
    "#### Question 3 (Hard):\n",
    "Which months have a higher total absenteeism time than the previous month?  \n"
   ]
  },
  {
   "cell_type": "code",
   "execution_count": null,
   "metadata": {},
   "outputs": [],
   "source": [
    "# your answer here\n",
    "%%sql"
   ]
  },
  {
   "attachments": {},
   "cell_type": "markdown",
   "metadata": {},
   "source": [
    "### References   \n",
    "\n",
    "Martiniano, A., Ferreira, R. P., Sassi, R. J., & Affonso, C. (2012). Application of a neuro fuzzy network in prediction of absenteeism at work. In Information Systems and Technologies (CISTI), 7th Iberian Conference on (pp. 1-4). IEEE.\n",
    "\n",
    "### Acknowledgements\n",
    "\n",
    "Professor Gary Johns for contributing to the selection of relevant research attributes.\n",
    "\n",
    "Professor Emeritus of Management\n",
    "\n",
    "Honorary Concordia University Research Chair in Management\n",
    "\n",
    "John Molson School of Business\n",
    "\n",
    "Concordia University\n",
    "\n",
    "Montreal, Quebec, Canada\n",
    "\n",
    "Adjunct Professor, OB/HR Division\n",
    "\n",
    "Sauder School of Business,\n",
    "\n",
    "University of British Columbia\n",
    "\n",
    "Vancouver, British Columbia, Canada"
   ]
  },
  {
   "cell_type": "markdown",
   "metadata": {},
   "source": []
  }
 ],
 "metadata": {
  "kernelspec": {
   "display_name": "jupyblog",
   "language": "python",
   "name": "python3"
  },
  "language_info": {
   "codemirror_mode": {
    "name": "ipython",
    "version": 3
   },
   "file_extension": ".py",
   "mimetype": "text/x-python",
   "name": "python",
   "nbconvert_exporter": "python",
   "pygments_lexer": "ipython3",
   "version": "3.10.10"
  },
  "orig_nbformat": 4
 },
 "nbformat": 4,
 "nbformat_minor": 2
}
