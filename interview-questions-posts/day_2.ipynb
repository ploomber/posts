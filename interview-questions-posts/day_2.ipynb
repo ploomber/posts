{
 "cells": [
  {
   "attachments": {},
   "cell_type": "markdown",
   "metadata": {},
   "source": [
    "# Dataset: Absenteeism at work\n",
    "\n",
    "Source: UCI Machine Learning Repository \n",
    "\n",
    "URL: https://archive.ics.uci.edu/ml/datasets/Absenteeism+at+work\n",
    "\n",
    "### Dataset description \n",
    "\n",
    "The data set allows for several new combinations of attributes and attribute exclusions, or the modification of the attribute type (categorical, integer, or real) depending on the purpose of the research.The data set (Absenteeism at work - Part I) was used in academic research at the Universidade Nove de Julho - Postgraduate Program in Informatics and Knowledge Management.\n",
    "\n",
    "\n",
    "### Categorical data information \n",
    "\n",
    "The data contains the following categories without (CID) patient follow-up (22), medical consultation (23), blood donation (24), laboratory examination (25), unjustified absence (26), physiotherapy (27), dental consultation (28).\n",
    "\n",
    "1. Individual identification (ID)\n",
    "2. Reason for absence (ICD).\n",
    "3. Month of absence\n",
    "4. Day of the week (Monday (2), Tuesday (3), Wednesday (4), Thursday (5), Friday (6))\n",
    "5. Seasons (summer (1), autumn (2), winter (3), spring (4))\n",
    "6. Transportation expense\n",
    "7. Distance from Residence to Work (kilometers)\n",
    "8. Service time\n",
    "9. Age\n",
    "10. Work load Average/day\n",
    "11. Hit target\n",
    "12. Disciplinary failure (yes=1; no=0)\n",
    "13. Education (high school (1), graduate (2), postgraduate (3), master and doctor (4))\n",
    "14. Son (number of children)\n",
    "15. Social drinker (yes=1; no=0)\n",
    "16. Social smoker (yes=1; no=0)\n",
    "17. Pet (number of pet)\n",
    "18. Weight\n",
    "19. Height\n",
    "20. Body mass index\n",
    "21. Absenteeism time in hours (target)\n"
   ]
  },
  {
   "attachments": {},
   "cell_type": "markdown",
   "metadata": {},
   "source": [
    "## 5 minute crash course into JupySQL\n",
    "\n",
    "Play the following video to get familiar with JupySQL to execute queries on Jupyter using DuckDB. \n",
    "\n",
    "<b>If you get stuck, join our Slack community!</b> https://ploomber.io/community\n",
    "\n",
    "[![IMAGE ALT TEXT HERE](https://img.youtube.com/vi/CsWEUYLaYU0/0.jpg)](https://www.youtube.com/watch?v=CsWEUYLaYU0)"
   ]
  },
  {
   "attachments": {},
   "cell_type": "markdown",
   "metadata": {},
   "source": [
    "#### Install - execute this once. Can be commented out afterwards if running from Syzygy or locally. "
   ]
  },
  {
   "cell_type": "code",
   "execution_count": null,
   "metadata": {},
   "outputs": [],
   "source": [
    "try:\n",
    "    %pip install jupysql duckdb-engine pandas --quiet\n",
    "    print(\"Success\")\n",
    "except:\n",
    "    print(\"retry installing\")"
   ]
  },
  {
   "attachments": {},
   "cell_type": "markdown",
   "metadata": {},
   "source": [
    "#### Load the data"
   ]
  },
  {
   "cell_type": "code",
   "execution_count": 1,
   "metadata": {},
   "outputs": [],
   "source": [
    "from urllib.request import urlretrieve\n",
    "from zipfile import ZipFile\n",
    "import pandas as pd\n",
    "\n",
    "url = \"https://archive.ics.uci.edu/ml/machine-learning-databases/00445/Absenteeism_at_work_AAA.zip\"\n",
    "\n",
    "# download the file\n",
    "urlretrieve(url, \"Absenteeism_at_work_AAA.zip\")\n",
    "\n",
    "# Extract the CSV file\n",
    "with ZipFile(\"Absenteeism_at_work_AAA.zip\", 'r') as zf:\n",
    "    zf.extractall()\n",
    "\n",
    "# Check the extracted CSV file name (in this case, it's \"Absenteeism_at_work.csv\")\n",
    "csv_file_name = \"Absenteeism_at_work.csv\"\n",
    "\n",
    "# Data clean up\n",
    "df = pd.read_csv(csv_file_name, sep=\",\")\n",
    "df.columns = df.columns.str.replace(' ', '_')\n",
    "\n",
    "# Save the cleaned up CSV file\n",
    "df.to_csv(\"Absenteeism_at_work_cleaned.csv\", index=False)"
   ]
  },
  {
   "attachments": {},
   "cell_type": "markdown",
   "metadata": {},
   "source": [
    "#### Load Engine\n",
    "\n",
    "<b>Note</b> Ensure you restart any previous notebook that has the same database name as the one initialized below."
   ]
  },
  {
   "cell_type": "code",
   "execution_count": 2,
   "metadata": {},
   "outputs": [],
   "source": [
    "%load_ext sql\n",
    "%sql duckdb:///absenteeism.duck.db"
   ]
  },
  {
   "cell_type": "code",
   "execution_count": 3,
   "metadata": {},
   "outputs": [
    {
     "name": "stdout",
     "output_type": "stream",
     "text": [
      "*  duckdb:///absenteeism.duck.db\n",
      "Done.\n"
     ]
    },
    {
     "data": {
      "text/html": [
       "<table>\n",
       "    <thead>\n",
       "        <tr>\n",
       "            <th>Count</th>\n",
       "        </tr>\n",
       "    </thead>\n",
       "    <tbody>\n",
       "        <tr>\n",
       "            <td>740</td>\n",
       "        </tr>\n",
       "    </tbody>\n",
       "</table>"
      ],
      "text/plain": [
       "[(740,)]"
      ]
     },
     "execution_count": 3,
     "metadata": {},
     "output_type": "execute_result"
    }
   ],
   "source": [
    "%%sql\n",
    "create or replace table absenteeism as\n",
    "from read_csv_auto('Absenteeism_at_work_cleaned.csv', header=True, sep=';')"
   ]
  },
  {
   "attachments": {},
   "cell_type": "markdown",
   "metadata": {},
   "source": [
    "#### Use JupySQL to perform the queries and answer the questions."
   ]
  },
  {
   "cell_type": "code",
   "execution_count": null,
   "metadata": {},
   "outputs": [],
   "source": [
    "%%sql \n",
    "SELECT *\n",
    "FROM absenteeism \n",
    "LIMIT 5"
   ]
  },
  {
   "attachments": {},
   "cell_type": "markdown",
   "metadata": {},
   "source": [
    "#### Question 1 (Easy):\n",
    "How many unique employees are listed in the dataset?"
   ]
  },
  {
   "cell_type": "code",
   "execution_count": null,
   "metadata": {},
   "outputs": [],
   "source": [
    "%%sql"
   ]
  },
  {
   "attachments": {},
   "cell_type": "markdown",
   "metadata": {},
   "source": [
    "<details>\n",
    "\n",
    "<summary>Answers</summary>\n",
    "\n",
    "You can use the `%%sql` magic and the `COUNT(DISTINCT Age)` function to count the total number of unique instances of the `Age` column. \n",
    "\n",
    "```python\n",
    "%%sql\n",
    "SELECT COUNT(DISTINCT Age) \n",
    "FROM absenteeism;\n",
    "```\n",
    "</details>"
   ]
  },
  {
   "attachments": {},
   "cell_type": "markdown",
   "metadata": {},
   "source": [
    "#### Question 2 (Medium):\n",
    "What is the average transportation expense for each season?\n"
   ]
  },
  {
   "cell_type": "code",
   "execution_count": null,
   "metadata": {},
   "outputs": [],
   "source": [
    "%%sql\n"
   ]
  },
  {
   "attachments": {},
   "cell_type": "markdown",
   "metadata": {},
   "source": [
    "<details>\n",
    "\n",
    "<summary>Answers</summary>\n",
    "\n",
    "You can use the `%%sql` magic and. Use the `AVG(Transportation_expense)` with the alias `AVG_Transportation_Expense` function to count the average transporation expense, then group by seasons.\n",
    "\n",
    "```python\n",
    "%%sql\n",
    "SELECT Seasons, AVG(Transportation_expense) AS AVG_Transportation_Expense\n",
    "FROM absenteeism \n",
    "GROUP BY Seasons;\n",
    "\n",
    "```\n",
    "</details>"
   ]
  },
  {
   "attachments": {},
   "cell_type": "markdown",
   "metadata": {},
   "source": [
    "#### Question 3 (Hard):\n",
    "\n",
    "Find the age of employees who have been absent for more than 5 hours with an unjustified absence.\n",
    "\n",
    "Hint: investigate encoding on the data source."
   ]
  },
  {
   "cell_type": "code",
   "execution_count": null,
   "metadata": {},
   "outputs": [],
   "source": [
    "%%sql"
   ]
  },
  {
   "attachments": {},
   "cell_type": "markdown",
   "metadata": {},
   "source": [
    "<details>\n",
    "\n",
    "<summary>Answers</summary>\n",
    "\n",
    "You can use the `%%sql` magic. 'Unjustified absence' is coded with 26. From there all that is required is selecting the age, and using `WHERE` to set up the appropriate conditions. \n",
    "\n",
    "```python\n",
    "%%sql\n",
    "SELECT Age \n",
    "FROM absenteeism \n",
    "WHERE Reason_for_absence = 26 AND Absenteeism_time_in_hours > 5;\n",
    "\n",
    "```\n",
    "</details>"
   ]
  },
  {
   "attachments": {},
   "cell_type": "markdown",
   "metadata": {},
   "source": [
    "### Bonus: Save the tables you created using the `--save` option, use the saved tables to generate visualizations.\n",
    "\n",
    "Here are a few tutorials to get you started:\n",
    "\n",
    "Parameterizing SQL queries: https://jupysql.ploomber.io/en/latest/user-guide/template.html\n",
    "\n",
    "SQL Plot: https://jupysql.ploomber.io/en/latest/api/magic-plot.html\n",
    "\n",
    "Organizing Large queries: https://jupysql.ploomber.io/en/latest/compose.html\n",
    "\n",
    "Plotting with ggplot: https://jupysql.ploomber.io/en/latest/user-guide/ggplot.html\n",
    "\n",
    "Turning your notebook into a Voila dashboard: https://ploomber.io/blog/voila-tutorial/\n"
   ]
  },
  {
   "cell_type": "code",
   "execution_count": null,
   "metadata": {},
   "outputs": [],
   "source": []
  },
  {
   "cell_type": "code",
   "execution_count": null,
   "metadata": {},
   "outputs": [],
   "source": []
  },
  {
   "cell_type": "code",
   "execution_count": null,
   "metadata": {},
   "outputs": [],
   "source": []
  },
  {
   "attachments": {},
   "cell_type": "markdown",
   "metadata": {},
   "source": [
    "<h2 align='center'>Congratulations! You can share this notebook with your network, or add it as part of your portfolio.</h2>"
   ]
  },
  {
   "attachments": {},
   "cell_type": "markdown",
   "metadata": {},
   "source": [
    "### References   \n",
    "\n",
    "Martiniano, A., Ferreira, R. P., Sassi, R. J., & Affonso, C. (2012). Application of a neuro fuzzy network in prediction of absenteeism at work. In Information Systems and Technologies (CISTI), 7th Iberian Conference on (pp. 1-4). IEEE.\n",
    "\n",
    "\n",
    "### Acknowledgements\n",
    "\n",
    "Thank you Mark Needham for producing the 5 minute crash course on using JupySQL."
   ]
  },
  {
   "cell_type": "markdown",
   "metadata": {},
   "source": []
  }
 ],
 "metadata": {
  "kernelspec": {
   "display_name": "jupyblog",
   "language": "python",
   "name": "python3"
  },
  "language_info": {
   "codemirror_mode": {
    "name": "ipython",
    "version": 3
   },
   "file_extension": ".py",
   "mimetype": "text/x-python",
   "name": "python",
   "nbconvert_exporter": "python",
   "pygments_lexer": "ipython3",
   "version": "3.10.10"
  },
  "orig_nbformat": 4
 },
 "nbformat": 4,
 "nbformat_minor": 2
}
