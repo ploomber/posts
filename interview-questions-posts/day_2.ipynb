{
 "cells": [
  {
   "attachments": {},
   "cell_type": "markdown",
   "metadata": {},
   "source": [
    "# Dataset: Absenteeism at work\n",
    "\n",
    "Source: UCI Machine Learning Repository \n",
    "\n",
    "URL: https://archive.ics.uci.edu/ml/datasets/Absenteeism+at+work\n",
    "\n",
    "### Dataset description \n",
    "\n",
    "The data set allows for several new combinations of attributes and attribute exclusions, or the modification of the attribute type (categorical, integer, or real) depending on the purpose of the research.The data set (Absenteeism at work - Part I) was used in academic research at the Universidade Nove de Julho - Postgraduate Program in Informatics and Knowledge Management.\n",
    "\n",
    "\n",
    "### Categorical data information \n",
    "\n",
    "The data contains the following categories without (CID) patient follow-up (22), medical consultation (23), blood donation (24), laboratory examination (25), unjustified absence (26), physiotherapy (27), dental consultation (28).\n",
    "\n",
    "1. Individual identification (ID)\n",
    "2. Reason for absence (ICD).\n",
    "3. Month of absence\n",
    "4. Day of the week (Monday (2), Tuesday (3), Wednesday (4), Thursday (5), Friday (6))\n",
    "5. Seasons (summer (1), autumn (2), winter (3), spring (4))\n",
    "6. Transportation expense\n",
    "7. Distance from Residence to Work (kilometers)\n",
    "8. Service time\n",
    "9. Age\n",
    "10. Work load Average/day\n",
    "11. Hit target\n",
    "12. Disciplinary failure (yes=1; no=0)\n",
    "13. Education (high school (1), graduate (2), postgraduate (3), master and doctor (4))\n",
    "14. Son (number of children)\n",
    "15. Social drinker (yes=1; no=0)\n",
    "16. Social smoker (yes=1; no=0)\n",
    "17. Pet (number of pet)\n",
    "18. Weight\n",
    "19. Height\n",
    "20. Body mass index\n",
    "21. Absenteeism time in hours (target)\n"
   ]
  },
  {
   "attachments": {},
   "cell_type": "markdown",
   "metadata": {},
   "source": [
    "#### Install - execute this once. Can be commented out afterwards if running from Syzygy or locally. "
   ]
  },
  {
   "cell_type": "code",
   "execution_count": null,
   "metadata": {},
   "outputs": [],
   "source": [
    "try:\n",
    "    %pip install jupysql --quiet\n",
    "    print(\"Success\")\n",
    "except:\n",
    "    print(\"retry installing\")"
   ]
  },
  {
   "attachments": {},
   "cell_type": "markdown",
   "metadata": {},
   "source": [
    "#### Load the data"
   ]
  },
  {
   "cell_type": "code",
   "execution_count": null,
   "metadata": {},
   "outputs": [],
   "source": [
    "import requests\n",
    "import zipfile\n",
    "import io\n",
    "import pandas as pd\n",
    "from sqlalchemy.engine import create_engine\n",
    "\n",
    "url = \"https://archive.ics.uci.edu/ml/machine-learning-databases/00445/Absenteeism_at_work_AAA.zip\"\n",
    "\n",
    "# download the ZIP file\n",
    "response = requests.get(url)\n",
    "\n",
    "# extract the contents of the ZIP file\n",
    "zf = zipfile.ZipFile(io.BytesIO(response.content))\n",
    "df = pd.read_csv(zf.open(\"Absenteeism_at_work.csv\"), sep=\";\", index_col=0)\n",
    "\n",
    "# Replace spaces with underscores in the column names\n",
    "df.columns = [c.replace(\" \", \"_\").replace(\"/\",\"_per_\") for c in df.columns]"
   ]
  },
  {
   "attachments": {},
   "cell_type": "markdown",
   "metadata": {},
   "source": [
    "#### Store the data into a SQLite instance"
   ]
  },
  {
   "cell_type": "code",
   "execution_count": null,
   "metadata": {},
   "outputs": [],
   "source": [
    "engine = create_engine(\"sqlite://\")\n",
    "\n",
    "df.to_sql(\"absenteeism\", engine)"
   ]
  },
  {
   "attachments": {},
   "cell_type": "markdown",
   "metadata": {},
   "source": [
    "#### Load Engine"
   ]
  },
  {
   "cell_type": "code",
   "execution_count": null,
   "metadata": {},
   "outputs": [],
   "source": [
    "%load_ext sql\n",
    "%sql engine"
   ]
  },
  {
   "attachments": {},
   "cell_type": "markdown",
   "metadata": {},
   "source": [
    "#### Use JupySQL to perform the queries and answer the questions."
   ]
  },
  {
   "cell_type": "code",
   "execution_count": null,
   "metadata": {},
   "outputs": [],
   "source": [
    "%%sql \n",
    "SELECT *\n",
    "FROM absenteeism \n",
    "LIMIT 5"
   ]
  },
  {
   "attachments": {},
   "cell_type": "markdown",
   "metadata": {},
   "source": [
    "#### Question 1 (Easy):\n",
    "How many unique employees are listed in the dataset?"
   ]
  },
  {
   "cell_type": "code",
   "execution_count": null,
   "metadata": {},
   "outputs": [],
   "source": [
    "%%sql"
   ]
  },
  {
   "attachments": {},
   "cell_type": "markdown",
   "metadata": {},
   "source": [
    "<details>\n",
    "\n",
    "<summary>Answers</summary>\n",
    "\n",
    "You can use the `%%sql` magic and the `COUNT(DISTINCT Age)` function to count the total number of unique instances of the `Age` column. \n",
    "\n",
    "```python\n",
    "%%sql\n",
    "SELECT COUNT(DISTINCT Age) \n",
    "FROM absenteeism;\n",
    "```\n",
    "</details>"
   ]
  },
  {
   "attachments": {},
   "cell_type": "markdown",
   "metadata": {},
   "source": [
    "#### Question 2 (Medium):\n",
    "What is the average transportation expense for each season?\n"
   ]
  },
  {
   "cell_type": "code",
   "execution_count": null,
   "metadata": {},
   "outputs": [],
   "source": [
    "%%sql\n"
   ]
  },
  {
   "attachments": {},
   "cell_type": "markdown",
   "metadata": {},
   "source": [
    "<details>\n",
    "\n",
    "<summary>Answers</summary>\n",
    "\n",
    "You can use the `%%sql` magic and. Use the `AVG(Transportation_expense)` with the alias `AVG_Transportation_Expense` function to count the average transporation expense, then group by seasons.\n",
    "\n",
    "```python\n",
    "%%sql\n",
    "SELECT Seasons, AVG(Transportation_expense) AS AVG_Transportation_Expense\n",
    "FROM absenteeism \n",
    "GROUP BY Seasons;\n",
    "\n",
    "```\n",
    "</details>"
   ]
  },
  {
   "attachments": {},
   "cell_type": "markdown",
   "metadata": {},
   "source": [
    "#### Question 3 (Hard):\n",
    "\n",
    "Find the age of employees who have been absent for more than 5 hours with an unjustified absence.\n",
    "\n",
    "Hint: investigate encoding on the data source."
   ]
  },
  {
   "cell_type": "code",
   "execution_count": null,
   "metadata": {},
   "outputs": [],
   "source": [
    "%%sql"
   ]
  },
  {
   "attachments": {},
   "cell_type": "markdown",
   "metadata": {},
   "source": [
    "<details>\n",
    "\n",
    "<summary>Answers</summary>\n",
    "\n",
    "You can use the `%%sql` magic. 'Unjustified absence' is coded with 26. From there all that is required is selecting the age, and using `WHERE` to set up the appropriate conditions. \n",
    "\n",
    "```python\n",
    "%%sql\n",
    "SELECT Age \n",
    "FROM absenteeism \n",
    "WHERE Reason_for_absence = 26 AND Absenteeism_time_in_hours > 5;\n",
    "\n",
    "```\n",
    "</details>"
   ]
  },
  {
   "attachments": {},
   "cell_type": "markdown",
   "metadata": {},
   "source": [
    "### References   \n",
    "\n",
    "Martiniano, A., Ferreira, R. P., Sassi, R. J., & Affonso, C. (2012). Application of a neuro fuzzy network in prediction of absenteeism at work. In Information Systems and Technologies (CISTI), 7th Iberian Conference on (pp. 1-4). IEEE.\n",
    "\n",
    "### Acknowledgements\n",
    "\n",
    "Professor Gary Johns for contributing to the selection of relevant research attributes.\n",
    "\n",
    "Professor Emeritus of Management\n",
    "\n",
    "Honorary Concordia University Research Chair in Management\n",
    "\n",
    "John Molson School of Business\n",
    "\n",
    "Concordia University\n",
    "\n",
    "Montreal, Quebec, Canada\n",
    "\n",
    "Adjunct Professor, OB/HR Division\n",
    "\n",
    "Sauder School of Business,\n",
    "\n",
    "University of British Columbia\n",
    "\n",
    "Vancouver, British Columbia, Canada"
   ]
  },
  {
   "cell_type": "markdown",
   "metadata": {},
   "source": []
  }
 ],
 "metadata": {
  "kernelspec": {
   "display_name": "jupyblog",
   "language": "python",
   "name": "python3"
  },
  "language_info": {
   "codemirror_mode": {
    "name": "ipython",
    "version": 3
   },
   "file_extension": ".py",
   "mimetype": "text/x-python",
   "name": "python",
   "nbconvert_exporter": "python",
   "pygments_lexer": "ipython3",
   "version": "3.10.10"
  },
  "orig_nbformat": 4
 },
 "nbformat": 4,
 "nbformat_minor": 2
}
