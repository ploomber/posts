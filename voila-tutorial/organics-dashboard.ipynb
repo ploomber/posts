{
 "cells": [
  {
   "attachments": {},
   "cell_type": "markdown",
   "metadata": {},
   "source": [
    "## End to end organic consumer insights with Voila and JupySQL"
   ]
  },
  {
   "cell_type": "code",
   "execution_count": 1,
   "metadata": {},
   "outputs": [],
   "source": [
    "%%bash \n",
    "pip install voila jupysql pandas bqplot ipywidgets duckdb-engine ipyvuetify --quiet"
   ]
  },
  {
   "cell_type": "code",
   "execution_count": 2,
   "metadata": {},
   "outputs": [],
   "source": [
    "from bqplot import pyplot as plt\n",
    "import ipywidgets as widgets\n",
    "from bqplot import (\n",
    "    Axis, LinearScale, OrdinalScale,\n",
    "    Figure, Bars, Scatter\n",
    ")\n",
    "import numpy as np\n",
    "from bqplot import ColorScale, ColorAxis\n",
    "import ipyvuetify as v\n",
    "import ipywidgets as widgets\n",
    "from ipywidgets import interact, interact_manual, IntSlider, Dropdown\n"
   ]
  },
  {
   "cell_type": "code",
   "execution_count": 3,
   "metadata": {},
   "outputs": [],
   "source": [
    "%load_ext sql\n",
    "%sql duckdb://"
   ]
  },
  {
   "cell_type": "code",
   "execution_count": 5,
   "metadata": {},
   "outputs": [
    {
     "name": "stdout",
     "output_type": "stream",
     "text": [
      "*  duckdb://\n",
      "Done.\n"
     ]
    },
    {
     "data": {
      "text/html": [
       "<table>\n",
       "    <thead>\n",
       "        <tr>\n",
       "            <th>Geographic_Region</th>\n",
       "            <th>Loyalty_Status</th>\n",
       "            <th>Television_Region</th>\n",
       "        </tr>\n",
       "    </thead>\n",
       "    <tbody>\n",
       "        <tr>\n",
       "            <td>Midlands</td>\n",
       "            <td>Gold</td>\n",
       "            <td>Wales & West</td>\n",
       "        </tr>\n",
       "        <tr>\n",
       "            <td>Midlands</td>\n",
       "            <td>Gold</td>\n",
       "            <td>Wales & West</td>\n",
       "        </tr>\n",
       "        <tr>\n",
       "            <td>Midlands</td>\n",
       "            <td>Silver</td>\n",
       "            <td>Wales & West</td>\n",
       "        </tr>\n",
       "        <tr>\n",
       "            <td>Midlands</td>\n",
       "            <td>Tin</td>\n",
       "            <td>Midlands</td>\n",
       "        </tr>\n",
       "        <tr>\n",
       "            <td>Midlands</td>\n",
       "            <td>Tin</td>\n",
       "            <td>Midlands</td>\n",
       "        </tr>\n",
       "    </tbody>\n",
       "</table>"
      ],
      "text/plain": [
       "[('Midlands', 'Gold', 'Wales & West'),\n",
       " ('Midlands', 'Gold', 'Wales & West'),\n",
       " ('Midlands', 'Silver', 'Wales & West'),\n",
       " ('Midlands', 'Tin', 'Midlands'),\n",
       " ('Midlands', 'Tin', 'Midlands')]"
      ]
     },
     "execution_count": 5,
     "metadata": {},
     "output_type": "execute_result"
    }
   ],
   "source": [
    "%%sql\n",
    "SELECT Geographic_Region, Loyalty_Status, Television_Region FROM organics.csv LIMIT 5"
   ]
  },
  {
   "cell_type": "code",
   "execution_count": 6,
   "metadata": {},
   "outputs": [],
   "source": [
    "# Define the function that will be called when the button is clicked\n",
    "def bar_chart(df, x_col, y_col, title):\n",
    "    \"\"\"\n",
    "    \n",
    "    Parameters\n",
    "    ----------\n",
    "    df : pandas.DataFrame\n",
    "        The dataframe to plot.\n",
    "    x_col : str\n",
    "        Name of column to plot, x axis\n",
    "    y_col: str\n",
    "        Name of column to plot, y axis\n",
    "    title: str\n",
    "        Title of the plot\n",
    "\n",
    "    Returns:\n",
    "    fig: bqplot.Figure\n",
    "        The figure to plot.\n",
    "    \"\"\"\n",
    "    # Create the scales\n",
    "    x_ord_scale = OrdinalScale()\n",
    "    y_lin_scale = LinearScale()\n",
    "    color_scale = ColorScale(scheme='viridis')\n",
    "\n",
    "    # Create the axes\n",
    "    x_axis = Axis(scale=x_ord_scale, label=x_col)\n",
    "    y_axis = Axis(scale=y_lin_scale, orientation='vertical', label=y_col)\n",
    "\n",
    "    # Create the bar values\n",
    "    x = df[x_col].values\n",
    "    y = df[y_col].values\n",
    "\n",
    "    # Sort organics_sold in descending order and get the sorted indices\n",
    "    sorted_indices = np.argsort(y)[::-1]\n",
    "\n",
    "    # Apply the sorted indices to both organics_sold and regions\n",
    "    sorted_y = y[sorted_indices]\n",
    "    sorted_x = x[sorted_indices]\n",
    "\n",
    "    # Create the bar chart\n",
    "    bar_chart = Bars(\n",
    "        x=sorted_x,\n",
    "        y=sorted_y,\n",
    "        scales={'x': x_ord_scale, 'y': y_lin_scale, 'color': color_scale}\n",
    "    )\n",
    "\n",
    "    # Create the figure\n",
    "    fig = Figure(marks=[bar_chart], axes=[x_axis, y_axis], title=title)\n",
    "    return fig\n",
    "\n",
    "def scatter_plot(df, x, y, title):\n",
    "    \"\"\"\n",
    "    \n",
    "    Parameters\n",
    "    ----------\n",
    "    df : pandas.DataFrame\n",
    "        The dataframe to plot.\n",
    "    x : str\n",
    "        Name of column to plot, x axis\n",
    "    y: str\n",
    "        Name of column to plot, y axis\n",
    "    title: str\n",
    "        Title of the plot\n",
    "\n",
    "    Returns:\n",
    "    fig: bqplot.Figure\n",
    "        The figure to plot.\n",
    "    \"\"\"\n",
    "\n",
    "    # Create the scales\n",
    "    x_scale = LinearScale()\n",
    "    y_scale = LinearScale()\n",
    "\n",
    "    # Create the scatter plot\n",
    "    scatter_chart = Scatter(\n",
    "        x=df[x],\n",
    "        y=df[y],\n",
    "        scales={'x': x_scale, 'y': y_scale},\n",
    "        default_size=64,\n",
    "    )\n",
    "\n",
    "    # Create the axes\n",
    "    x_axis = Axis(scale=x_scale, label=x)\n",
    "    y_axis = Axis(scale=y_scale, label=y, orientation='vertical')\n",
    "\n",
    "    fig = Figure(marks=[scatter_chart], axes=[x_axis, y_axis], title=title)\n",
    "    return fig\n",
    "\n",
    "\n",
    "def set_fig_layout(fig, width, height, min_height):\n",
    "    \"\"\"\n",
    "    \n",
    "    Parameters\n",
    "    ----------\n",
    "    fig : bqplot.Figure\n",
    "        The figure to plot.\n",
    "    width : int\n",
    "        Width of the plot.\n",
    "    height: int\n",
    "        Height of the plot.\n",
    "    min_height: int\n",
    "        Minimum height of the plot.\n",
    "        \n",
    "    \"\"\"\n",
    "    fig.layout.width = width\n",
    "    fig.layout.height = height\n",
    "    fig.layout.min_width = min_height\n",
    "    return fig"
   ]
  },
  {
   "attachments": {},
   "cell_type": "markdown",
   "metadata": {},
   "source": [
    "### Part I: Purchases by region"
   ]
  },
  {
   "cell_type": "code",
   "execution_count": 7,
   "metadata": {},
   "outputs": [
    {
     "data": {
      "application/vnd.jupyter.widget-view+json": {
       "model_id": "15cef87a5ab74cccac2f6b90cba74744",
       "version_major": 2,
       "version_minor": 0
      },
      "text/plain": [
       "interactive(children=(IntSlider(value=0, description='Threshold:', max=1000, step=100), Button(description='Ru…"
      ]
     },
     "metadata": {},
     "output_type": "display_data"
    }
   ],
   "source": [
    "# Function to execute the SQL query and return a DataFrame\n",
    "def get_organics_by_threshold(threshold):\n",
    "    global organics_by_threshold_df\n",
    "    query = f\"\"\"\n",
    "    SELECT Television_Region, COUNT(*) as NUM_Purchases\n",
    "    FROM organics.csv\n",
    "    WHERE Organics_Purchase_Indicator = 1\n",
    "    GROUP BY Television_Region\n",
    "    HAVING COUNT(*) >= {threshold}\n",
    "    \"\"\"\n",
    "    print(\"Performing query\")\n",
    "    # Use JupySQL magic %sql to execute the query\n",
    "    result = %sql {{query}}\n",
    "    # Convert the result to a pandas DataFrame\n",
    "    organics_by_threshold_df = result.DataFrame()\n",
    "\n",
    "    # Create the bar chart\n",
    "    fig_bar_geo = bar_chart(organics_by_threshold_df,  'Television_Region', 'NUM_Purchases', 'Number of organic purchases made by region')\n",
    "    fig_bar_geo = set_fig_layout(fig_bar_geo, 'auto', '400px', '300px')\n",
    "    display(organics_by_threshold_df)\n",
    "    display(fig_bar_geo)\n",
    "\n",
    "# Create a variable for the threshold selection\n",
    "threshold = widgets.IntSlider(\n",
    "    min=0, max=1000, step=100, value=0,\n",
    "    description='Threshold:',\n",
    "    disabled=False,\n",
    ")\n",
    "\n",
    "\n",
    "# Use ipywidgets.interact_manual to create a dynamic interface\n",
    "interact_manual(get_organics_by_threshold, threshold=threshold);"
   ]
  },
  {
   "attachments": {},
   "cell_type": "markdown",
   "metadata": {},
   "source": [
    "### Part II: Consumer trends by gender and age group"
   ]
  },
  {
   "cell_type": "code",
   "execution_count": 8,
   "metadata": {},
   "outputs": [
    {
     "data": {
      "application/vnd.jupyter.widget-view+json": {
       "model_id": "87ff98dbce3c41a3abb47dbb1aaebc7d",
       "version_major": 2,
       "version_minor": 0
      },
      "text/plain": [
       "interactive(children=(SelectMultiple(description='Age Groups:', index=(0,), options=('Under 30', '30-50', '51-…"
      ]
     },
     "metadata": {},
     "output_type": "display_data"
    }
   ],
   "source": [
    "def get_age_group_purchase(age_groups):\n",
    "    global age_group_purchase_df\n",
    "    query = f\"\"\"\n",
    "    SELECT Gender, Age_Group, AVG(Total_Spend) as Average_Total_Spend\n",
    "    FROM (\n",
    "        SELECT Gender, \n",
    "            CASE \n",
    "                WHEN Age < 30 THEN 'Under 30'\n",
    "                WHEN Age BETWEEN 30 AND 50 THEN '30-50'\n",
    "                WHEN Age BETWEEN 51 AND 70 THEN '51-70'\n",
    "                ELSE 'Over 70'\n",
    "            END as Age_Group,\n",
    "            Total_Spend\n",
    "        FROM organics.csv\n",
    "        WHERE Organics_Purchase_Indicator = 1\n",
    "    ) as subquery\n",
    "    WHERE Age_Group IN {age_groups}\n",
    "    GROUP BY Gender, Age_Group\n",
    "\n",
    "    \"\"\"\n",
    "    # Use JupySQL magic %sql to execute the query\n",
    "    print(\"Performing query\")\n",
    "    result = %sql {{query}}\n",
    "    # Convert the result to a pandas DataFrame\n",
    "    age_group_purchase_df = result.DataFrame()\n",
    "\n",
    "    # Create the bar chart\n",
    "    fig_bar_gender = bar_chart(age_group_purchase_df, 'Gender', 'Average_Total_Spend', 'Average total expenses of Purchases by age group and gender')\n",
    "    fig_bar_gender = set_fig_layout(fig_bar_gender, 'auto', '400px', '300px')\n",
    "    display(age_group_purchase_df)\n",
    "    display(fig_bar_gender)\n",
    "\n",
    "# Create a variable for the age group selection\n",
    "age_groups = widgets.SelectMultiple(\n",
    "    options=['Under 30', '30-50', '51-70', 'Over 70'],\n",
    "    value=['Under 30'],\n",
    "    description='Age Groups:',\n",
    "    disabled=False,\n",
    ")\n",
    "\n",
    "# Use ipywidgets.interact to create a dynamic interface\n",
    "interact_manual(get_age_group_purchase, age_groups=age_groups);"
   ]
  },
  {
   "attachments": {},
   "cell_type": "markdown",
   "metadata": {},
   "source": [
    "### Part III: Relationship between average expenses and number of purchases by gender"
   ]
  },
  {
   "cell_type": "code",
   "execution_count": 9,
   "metadata": {},
   "outputs": [
    {
     "data": {
      "application/vnd.jupyter.widget-view+json": {
       "model_id": "9ae703e02dbf4bb782c2a69525a97a3a",
       "version_major": 2,
       "version_minor": 0
      },
      "text/plain": [
       "interactive(children=(IntSlider(value=1, description='Min Aff:', max=15, min=1), Dropdown(description='Gender:…"
      ]
     },
     "metadata": {},
     "output_type": "display_data"
    }
   ],
   "source": [
    "def get_purchased_by_affluence(affluence_min, selected_gender):\n",
    "    query = f\"\"\"\n",
    "    SELECT Affluence_Grade, COUNT(*) as Num_Purchased, AVG(Total_Spend) as AVG_Expenses\n",
    "    FROM organics.csv\n",
    "    WHERE Organics_Purchase_Indicator = 1 AND Affluence_Grade >= {affluence_min} AND Gender = '{selected_gender}'\n",
    "    GROUP BY Affluence_Grade\n",
    "    ORDER BY Affluence_Grade\n",
    "    \"\"\"\n",
    "    print(\"Performing query\")\n",
    "    # Use JupySQL magic %sql to execute the query\n",
    "    result = %sql {{query}}\n",
    "    # Convert the result to a pandas DataFrame\n",
    "    aff_g_df =  result.DataFrame()\n",
    "\n",
    "    # Create the scatter plot\n",
    "    fig = scatter_plot(aff_g_df, 'AVG_Expenses', 'Num_Purchased', 'Number of Purchases vs Total Expenses by Affluence Grade and Gender')\n",
    "    fig = set_fig_layout(fig, 'auto', '400px', '300px')\n",
    "\n",
    "    display(fig)\n",
    "\n",
    "affluence_min = IntSlider(\n",
    "    min=1, max=15, step=1, value=1,\n",
    "    description='Min Aff:',\n",
    "    disabled=False,\n",
    ")\n",
    "\n",
    "gender_dropdown = Dropdown(\n",
    "    options=['M', 'F', 'U'],\n",
    "    value='M',\n",
    "    description='Gender:',\n",
    "    disabled=False,\n",
    ")\n",
    "\n",
    "interact_manual(get_purchased_by_affluence, affluence_min=affluence_min, selected_gender=gender_dropdown);\n"
   ]
  }
 ],
 "metadata": {
  "kernelspec": {
   "display_name": "jupyblog",
   "language": "python",
   "name": "python3"
  },
  "language_info": {
   "codemirror_mode": {
    "name": "ipython",
    "version": 3
   },
   "file_extension": ".py",
   "mimetype": "text/x-python",
   "name": "python",
   "nbconvert_exporter": "python",
   "pygments_lexer": "ipython3",
   "version": "3.10.10"
  },
  "orig_nbformat": 4
 },
 "nbformat": 4,
 "nbformat_minor": 2
}
